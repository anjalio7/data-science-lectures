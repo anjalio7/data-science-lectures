{
 "cells": [
  {
   "cell_type": "markdown",
   "id": "73afe08f",
   "metadata": {},
   "source": [
    "NUMPY\n",
    "\n",
    "NumPy is the fundamental package for scientific computing in Python. It is a Python library that provides a multidimensional array object, various derived objects (such as masked arrays and matrices), and an assortment of routines for fast operations on arrays, including mathematical, logical, shape manipulation, sorting, selecting, I/O, discrete Fourier transforms, basic linear algebra, basic statistical operations, random simulation and much more."
   ]
  },
  {
   "cell_type": "markdown",
   "id": "54eac9af",
   "metadata": {},
   "source": [
    "Installing Numpy\n",
    "\n",
    "If you already have Python, you can install NumPy with:\n",
    "\n",
    "pip install numpy"
   ]
  },
  {
   "cell_type": "markdown",
   "id": "6961c7d1",
   "metadata": {},
   "source": [
    "Usage of NUMPY\n",
    "\n",
    "To access NumPy and its functions import it in your Python code like this:"
   ]
  },
  {
   "cell_type": "code",
   "execution_count": 1,
   "id": "ed26cedc",
   "metadata": {},
   "outputs": [],
   "source": [
    "import numpy as np"
   ]
  },
  {
   "cell_type": "markdown",
   "id": "94c616d2",
   "metadata": {},
   "source": [
    "# Difference Between Python List and Numpy Array"
   ]
  },
  {
   "cell_type": "markdown",
   "id": "b587a3ab",
   "metadata": {},
   "source": [
    "# Python List\n",
    "\n",
    "Lists are used to store multiple items in a single variable. Data can be of any type either integer, string, float or boolean\n",
    "\n",
    "# Numpy Array\n",
    "\n",
    "Numpy arrays are a commonly used scientific data structure in Python that store data as a grid, or a matrix. This provide the ability to python for manipulating and organizing the data by defining the relationships between the data values stored within the structures"
   ]
  },
  {
   "cell_type": "markdown",
   "id": "12718a56",
   "metadata": {},
   "source": [
    "Below the example of the Python and numpy array"
   ]
  },
  {
   "cell_type": "markdown",
   "id": "39a3c363",
   "metadata": {},
   "source": [
    "Python List"
   ]
  },
  {
   "cell_type": "code",
   "execution_count": 4,
   "id": "a81a9208",
   "metadata": {},
   "outputs": [
    {
     "name": "stdout",
     "output_type": "stream",
     "text": [
      "List in Python -  [1, 2, 3, 4, 5, 6, 7, 8, 9, 0]\n"
     ]
    }
   ],
   "source": [
    "a = [1,2,3,4,5,6,7,8,9,0]\n",
    "print(\"List in Python - \", a)"
   ]
  },
  {
   "cell_type": "markdown",
   "id": "7c49710c",
   "metadata": {},
   "source": [
    "Numpy Array\n",
    "\n",
    "To use the numpy arrays we use the in-built funvtion called array()"
   ]
  },
  {
   "cell_type": "code",
   "execution_count": 5,
   "id": "3b73b685",
   "metadata": {},
   "outputs": [
    {
     "name": "stdout",
     "output_type": "stream",
     "text": [
      "Numpy Array -  [1 2 3 4 5 6 7 8 9 0]\n"
     ]
    }
   ],
   "source": [
    "a = np.array([1,2,3,4,5,6,7,8,9,0])\n",
    "print(\"Numpy Array - \", a)"
   ]
  },
  {
   "cell_type": "code",
   "execution_count": null,
   "id": "6284cac3",
   "metadata": {},
   "outputs": [],
   "source": []
  }
 ],
 "metadata": {
  "kernelspec": {
   "display_name": "Python 3 (ipykernel)",
   "language": "python",
   "name": "python3"
  },
  "language_info": {
   "codemirror_mode": {
    "name": "ipython",
    "version": 3
   },
   "file_extension": ".py",
   "mimetype": "text/x-python",
   "name": "python",
   "nbconvert_exporter": "python",
   "pygments_lexer": "ipython3",
   "version": "3.10.5"
  }
 },
 "nbformat": 4,
 "nbformat_minor": 5
}
