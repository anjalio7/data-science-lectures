{
 "cells": [
  {
   "cell_type": "markdown",
   "id": "864a7134",
   "metadata": {},
   "source": [
    "# 1. How to create an empty and a full NumPy array?"
   ]
  },
  {
   "cell_type": "markdown",
   "id": "07c8d720",
   "metadata": {},
   "source": [
    "# 2.Combining a one and a two-dimensional NumPy\n"
   ]
  },
  {
   "cell_type": "markdown",
   "id": "f787779b",
   "metadata": {},
   "source": [
    " \n",
    "Input: num_1d = np.arange(5)\n",
    "    \n",
    "        num_2d = np.arange(10).reshape(2,5)\n",
    "    \n",
    "output:\n",
    "    One dimensional array:\n",
    "[0 1 2 3 4]\n",
    "\n",
    "Two dimensional array:\n",
    "[[0 1 2 3 4]\n",
    " [5 6 7 8 9]]\n",
    "0:0\n",
    "\n",
    "1:1\n",
    "\n",
    "2:2\n",
    "\n",
    "3:3\n",
    "\n",
    "4:4\n",
    "\n",
    "0:5\n",
    "\n",
    "1:6\n",
    "\n",
    "2:7\n",
    "\n",
    "3:8\n",
    "\n",
    "4:9"
   ]
  },
  {
   "cell_type": "markdown",
   "id": "1b6faed7",
   "metadata": {},
   "source": [
    "# 3.How to flatten a Matrix using NumPy in Python. By using ndarray.flatten() function we can flatten a matrix to one dimension in python."
   ]
  },
  {
   "cell_type": "markdown",
   "id": "b998c79a",
   "metadata": {},
   "source": [
    "Given :\n",
    "    \n",
    "gfg = np.array([[2, 3], [4, 5]])"
   ]
  },
  {
   "cell_type": "markdown",
   "id": "989bb352",
   "metadata": {},
   "source": [
    "# 4. Using numpy.size() function count the number of elements along a given axis."
   ]
  },
  {
   "cell_type": "markdown",
   "id": "53aedbd7",
   "metadata": {},
   "source": [
    "arr = np.array([[1, 2, 3, 4], [5, 6, 7, 8]])"
   ]
  },
  {
   "cell_type": "markdown",
   "id": "9e163e4f",
   "metadata": {},
   "source": [
    "# 5. With the help of Numpy matrix.max() method, we can get the maximum value from given matrix."
   ]
  },
  {
   "cell_type": "markdown",
   "id": "ff92ff67",
   "metadata": {},
   "source": [
    "y = np.matrix('[1, 2, 3; 4, 5, 6; 7, 8, 9]')"
   ]
  },
  {
   "cell_type": "markdown",
   "id": "0914fcee",
   "metadata": {},
   "source": [
    "# 6. With the help of matrix.sum() method, we are able to find the sum of values in a matrix "
   ]
  },
  {
   "cell_type": "markdown",
   "id": "8eb0e38c",
   "metadata": {},
   "source": [
    "summation = np.matrix('[5, 9, 1; 12, 23, 1; 04, 15, 6]')"
   ]
  },
  {
   "cell_type": "markdown",
   "id": "e5bfc0a4",
   "metadata": {},
   "source": [
    "# 7.  How to inverse a matrix"
   ]
  },
  {
   "cell_type": "markdown",
   "id": "8b9db25c",
   "metadata": {},
   "source": [
    "A = np.array([[6, 1, 1],\n",
    "              [4, -2, 5],\n",
    "              [2, 8, 7]])"
   ]
  },
  {
   "cell_type": "markdown",
   "id": "220cbc18",
   "metadata": {},
   "source": [
    "# 8. Write a NumPy program to create a structured array from given student name, height, class and their data types. Now sort by class, then height if class are equal."
   ]
  },
  {
   "cell_type": "markdown",
   "id": "720d62d9",
   "metadata": {},
   "source": [
    "Input:\n",
    "             \n",
    "data_type = [('name', 'S15'), ('class', int), ('height', float)]\n",
    "             \n",
    "students_details = [('James', 5, 48.5), ('Nail', 6, 52.5),('Paul', 5, 42.10), ('Pit', 5, 40.11)]\n",
    "\n",
    "Expected Output:\n",
    "    \n",
    "Original array:\n",
    "    \n",
    "[(b'James', 5, 48.5 ) (b'Nail', 6, 52.5 ) (b'Paul', 5, 42.1 ) (b'Pit', 5, 40.11)]\n",
    "\n",
    "Sort by age, then height if class are equal:\n",
    "    \n",
    "[(b'Pit', 5, 40.11) (b'Paul', 5, 42.1 ) (b'James', 5, 48.5 ) (b'Nail', 6, 52.5 )]"
   ]
  },
  {
   "cell_type": "markdown",
   "id": "2d68fa6e",
   "metadata": {},
   "source": [
    "# 9. Write a NumPy program to get the indices of the sorted elements of a given arra"
   ]
  },
  {
   "cell_type": "markdown",
   "id": "b514943b",
   "metadata": {},
   "source": [
    "Input : student_id = np.array([1023, 5202, 6230, 1671, 1682, 5241, 4532])\n",
    "\n",
    "Output:\n",
    "Original array:\n",
    "\n",
    "[1023 5202 6230 1671 1682 5241 4532]\n",
    "\n",
    "Indices of the sorted elements of a given array:\n",
    "\n",
    "[0 3 4 6 1 5 2]\n"
   ]
  },
  {
   "cell_type": "markdown",
   "id": "13154bf5",
   "metadata": {},
   "source": [
    "# 10. Write a NumPy program to generate six random integers between 10 and         30."
   ]
  },
  {
   "cell_type": "markdown",
   "id": "d8f096fd",
   "metadata": {},
   "source": [
    "Expected Output:\n",
    "    \n",
    "[-0.43262625 -1.10836787 1.80791413 0.69287463 -0.53742101]"
   ]
  },
  {
   "cell_type": "markdown",
   "id": "a7771e4e",
   "metadata": {},
   "source": [
    "# 11. Write a NumPy program to check two random arrays are equal or not."
   ]
  },
  {
   "cell_type": "markdown",
   "id": "036973b9",
   "metadata": {},
   "source": [
    "Sample Output:\n",
    "    \n",
    "First array:\n",
    "    \n",
    "[1 0 1 0 1 1]\n",
    "\n",
    "Second array:\n",
    "    \n",
    "[0 0 1 1 1 0]\n",
    "\n",
    "Test above two arrays are equal or not!\n",
    "\n",
    "False\n"
   ]
  },
  {
   "cell_type": "markdown",
   "id": "4d5757e5",
   "metadata": {},
   "source": [
    "# 12. Write a NumPy program to reverse an array (first element becomes last). "
   ]
  },
  {
   "cell_type": "markdown",
   "id": "781ddff0",
   "metadata": {},
   "source": [
    "output:\n",
    "\n",
    "Original array:\n",
    "    \n",
    "[12 13 14 15 16 17 18 19 20 21 22 23 24 25 26 27 28 29 30 31 32 33 34 35 36 37]\n",
    "Reverse array:\n",
    "    \n",
    "[37 36 35 34 33 32 31 30 29 28 27 26 25 24 23 22 21 20 19 18 17 16 15 14 13 12]"
   ]
  },
  {
   "cell_type": "markdown",
   "id": "3baf1ebd",
   "metadata": {},
   "source": [
    "# 13.Write a NumPy program to convert an array to a float type."
   ]
  },
  {
   "cell_type": "markdown",
   "id": "f3861dff",
   "metadata": {},
   "source": [
    "Input:\n",
    "    \n",
    "arr = np.array([32,45,23,65,11])"
   ]
  },
  {
   "cell_type": "markdown",
   "id": "f259946c",
   "metadata": {},
   "source": [
    "# 13. Write a NumPy program to append values to the end of an array. "
   ]
  },
  {
   "cell_type": "markdown",
   "id": "f0d80dca",
   "metadata": {},
   "source": [
    "Expected Output:\n",
    "\n",
    "Original array:\n",
    "\n",
    "[10, 20, 30]\n",
    "\n",
    "After append values to the end of the array:\n",
    "\n",
    "[10 20 30 40 50 60 70 80 90]"
   ]
  },
  {
   "cell_type": "markdown",
   "id": "de4c82d3",
   "metadata": {},
   "source": [
    "# 14. Write a NumPy program to convert the values of Centigrade degrees into Fahrenheit degrees and vice versa. Values are stored into a NumPy array. "
   ]
  },
  {
   "cell_type": "markdown",
   "id": "91a27fe8",
   "metadata": {},
   "source": [
    "Input : Array [0, 12, 45.21, 34, 99.91]\n",
    "[-17.78, -11.11, 7.34, 1.11, 37.73, 0. ]\n",
    "\n",
    "Expected Output:\n",
    "\n",
    "Values in Fahrenheit degrees: [ 0. 12. 45.21 34. 99.91 32. ]\n",
    "\n",
    "Values in Centigrade degrees:  [-17.78 -11.11 7.34 1.11 37.73 0. ]\n",
    "\n",
    "Values in Centigrade degrees: [-17.78 -11.11 7.34 1.11 37.73 0. ]\n",
    "\n",
    "Values in Fahrenheit degrees:   [-0. 12. 45.21 34. 99.91 32."
   ]
  },
  {
   "cell_type": "markdown",
   "id": "13bdaf49",
   "metadata": {},
   "source": [
    "# 15. Write a NumPy program to find common values between two arrays. "
   ]
  },
  {
   "cell_type": "markdown",
   "id": "cc468ca3",
   "metadata": {},
   "source": [
    "Expected Output:\n",
    "    \n",
    "Array1: [ 0 10 20 40 60]\n",
    "    \n",
    "Array2: [10, 30, 40]\n",
    "    \n",
    "Common values between two arrays:\n",
    "[10 40]"
   ]
  },
  {
   "cell_type": "markdown",
   "id": "531c9a78",
   "metadata": {},
   "source": [
    "# 16.Write a NumPy program to get the unique elements of an array. "
   ]
  },
  {
   "cell_type": "markdown",
   "id": "0d2949af",
   "metadata": {},
   "source": [
    "Expected Output:\n",
    "    \n",
    "Original array: [10 10 20 20 30 30]\n",
    "    \n",
    "Unique elements of the above array:\n",
    "[10 20 30]\n",
    "\n",
    "Original array:\n",
    "[[1 1]\n",
    "[2 3]]\n",
    "\n",
    "Unique elements of the above array:\n",
    "[1 2 3]"
   ]
  },
  {
   "cell_type": "markdown",
   "id": "128432b6",
   "metadata": {},
   "source": [
    "# 17. Write a NumPy program to add, subtract, multiply, divide arguments element-wise."
   ]
  },
  {
   "cell_type": "markdown",
   "id": "c7f71b0f",
   "metadata": {},
   "source": [
    " arr = np.array([1.0, 4.0])"
   ]
  },
  {
   "cell_type": "markdown",
   "id": "6002e497",
   "metadata": {},
   "source": [
    "# 18. Write a NumPy program to get the element-wise remainder of an array of division."
   ]
  },
  {
   "cell_type": "code",
   "execution_count": null,
   "id": "74fcc49c",
   "metadata": {},
   "outputs": [],
   "source": []
  }
 ],
 "metadata": {
  "kernelspec": {
   "display_name": "Python 3 (ipykernel)",
   "language": "python",
   "name": "python3"
  },
  "language_info": {
   "codemirror_mode": {
    "name": "ipython",
    "version": 3
   },
   "file_extension": ".py",
   "mimetype": "text/x-python",
   "name": "python",
   "nbconvert_exporter": "python",
   "pygments_lexer": "ipython3",
   "version": "3.10.4"
  }
 },
 "nbformat": 4,
 "nbformat_minor": 5
}
