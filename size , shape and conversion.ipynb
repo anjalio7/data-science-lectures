{
 "cells": [
  {
   "cell_type": "code",
   "execution_count": 11,
   "id": "06e9e60b",
   "metadata": {},
   "outputs": [],
   "source": [
    "import numpy as np"
   ]
  },
  {
   "cell_type": "markdown",
   "id": "7158e669",
   "metadata": {},
   "source": [
    "# Numpy size()"
   ]
  },
  {
   "cell_type": "markdown",
   "id": "f2de0a49",
   "metadata": {},
   "source": [
    "To find python NumPy array size use size() function. The NumPy size() function has two arguments. First is an array, required an argument need to give array or array name. Second is an axis, default an argument. The axis contains none value, according to the requirement you can change it.\n",
    "\n",
    "The np.size() function count items from a given array and give output in the form of a number as size. \n",
    "\n",
    "Syntax: np.size(array, axis=None)"
   ]
  },
  {
   "cell_type": "code",
   "execution_count": 12,
   "id": "fa6822f2",
   "metadata": {},
   "outputs": [
    {
     "name": "stdout",
     "output_type": "stream",
     "text": [
      "2D array : \n",
      " [[0 1 1]\n",
      " [1 0 1]\n",
      " [1 1 0]]\n",
      "Size of arr_2D =  9\n"
     ]
    }
   ],
   "source": [
    "arr_2D = np.array([[0, 1, 1], [1, 0, 1], [1, 1, 0]]) # create NumPy 2D array\n",
    "print(\"2D array : \\n\", arr_2D) # print array\n",
    " \n",
    "array_size = np.size(arr_2D) # find the size of arr-2D\n",
    " \n",
    "print('Size of arr_2D = ', array_size) # print size of array"
   ]
  },
  {
   "cell_type": "markdown",
   "id": "6595b503",
   "metadata": {},
   "source": [
    "If you want to count how many items in a row or a column of NumPy array. Then give the axis argument as 0 or 1."
   ]
  },
  {
   "cell_type": "code",
   "execution_count": 13,
   "id": "e329f521",
   "metadata": {},
   "outputs": [
    {
     "name": "stdout",
     "output_type": "stream",
     "text": [
      "No. of items in a column =  3\n"
     ]
    }
   ],
   "source": [
    "items_in_col = np.size(arr_2D, axis = 0) # give columns \n",
    "print(\"No. of items in a column = \", items_in_col )"
   ]
  },
  {
   "cell_type": "code",
   "execution_count": 14,
   "id": "eff7f423",
   "metadata": {},
   "outputs": [
    {
     "name": "stdout",
     "output_type": "stream",
     "text": [
      "No. of items in a row =  3\n"
     ]
    }
   ],
   "source": [
    "items_in_row = np.size(arr_2D, axis = 0)\n",
    "print(\"No. of items in a row = \", items_in_row )"
   ]
  },
  {
   "cell_type": "markdown",
   "id": "83dd7fb6",
   "metadata": {},
   "source": [
    "You can find the size of the NumPy array using size attribute.\n",
    "\n",
    "Syntax: array.size"
   ]
  },
  {
   "cell_type": "code",
   "execution_count": 15,
   "id": "67a9a001",
   "metadata": {},
   "outputs": [
    {
     "name": "stdout",
     "output_type": "stream",
     "text": [
      "Size of arr_2D =  9\n"
     ]
    }
   ],
   "source": [
    "\n",
    "print(\"Size of arr_2D = \", arr_2D.size)"
   ]
  },
  {
   "cell_type": "code",
   "execution_count": 16,
   "id": "1c76a128",
   "metadata": {},
   "outputs": [
    {
     "name": "stdout",
     "output_type": "stream",
     "text": [
      "2\n",
      "4\n"
     ]
    }
   ],
   "source": [
    "arr = np.array([[1, 2, 3, 4], [5, 6, 7, 8]])\n",
    " \n",
    "# count the number of elements along the axis.\n",
    "# Here rows and columns are being treated\n",
    "# as elements\n",
    " \n",
    "#gives no. of rows along x-axis\n",
    "print(np.size(arr, 0))\n",
    " \n",
    "#gives no. of columns along y-axis\n",
    "print(np.size(arr, 1))"
   ]
  },
  {
   "cell_type": "markdown",
   "id": "fe5e0274",
   "metadata": {},
   "source": [
    "# Python NumPy Shape "
   ]
  },
  {
   "cell_type": "markdown",
   "id": "17455875",
   "metadata": {},
   "source": [
    "The NumPy shape function helps to find the number of rows and columns of python NumPy array. The numpy.shape() function gives output in form of tuple (rows_no, columns_no). \n",
    "\n",
    "Syntax: np.shape(array)"
   ]
  },
  {
   "cell_type": "code",
   "execution_count": 17,
   "id": "081f9cc8",
   "metadata": {},
   "outputs": [
    {
     "name": "stdout",
     "output_type": "stream",
     "text": [
      "One dimentional NumPy array : \n",
      " [1 2 3]\n"
     ]
    }
   ],
   "source": [
    "\n",
    "arr_1D = np.array([1, 2, 3]) # create 1D array\n",
    "print(\"One dimentional NumPy array : \\n\", arr_1D) # print arr_1D\n"
   ]
  },
  {
   "cell_type": "code",
   "execution_count": 18,
   "id": "18808bf1",
   "metadata": {},
   "outputs": [
    {
     "name": "stdout",
     "output_type": "stream",
     "text": [
      "Shape of arr_1D =  (3,)\n"
     ]
    }
   ],
   "source": [
    "shape_of_arr_1D = np.shape(arr_1D) # find shape of NumPy Array arr_1D\n",
    "print(\"Shape of arr_1D = \", shape_of_arr_1D) # print shape_of_arr_1D"
   ]
  },
  {
   "cell_type": "markdown",
   "id": "23d5b7cd",
   "metadata": {},
   "source": [
    "When you will find the shape of NumPy one dimensional array then np.shape() give a tuple which contains a single number. That number shows the column number respected to the array."
   ]
  },
  {
   "cell_type": "code",
   "execution_count": 19,
   "id": "e6d115d5",
   "metadata": {},
   "outputs": [
    {
     "name": "stdout",
     "output_type": "stream",
     "text": [
      "Two array : \n",
      " [[1 2 3]\n",
      " [1 2 3]\n",
      " [1 2 3]]\n",
      "Shape of arr_2D =  (3, 3)\n"
     ]
    }
   ],
   "source": [
    "arr_2D = np.array([[1, 2, 3], [1, 2, 3], [1, 2, 3]]) # create 2D array\n",
    "print(\"Two array : \\n\", arr_2D) # print arr_2D\n",
    " \n",
    "shape_of_arr_2D = np.shape(arr_2D) # find shape of NumPy array arr_2D\n",
    "print(\"Shape of arr_2D = \", shape_of_arr_2D) # print shape_of_arr_2D"
   ]
  },
  {
   "cell_type": "markdown",
   "id": "13ff2ddd",
   "metadata": {},
   "source": [
    "The np.shape() gives a return of two-dimensional array in a  pair of rows and columns tuple (rows, columns)."
   ]
  },
  {
   "cell_type": "code",
   "execution_count": 20,
   "id": "dd1787a4",
   "metadata": {},
   "outputs": [
    {
     "name": "stdout",
     "output_type": "stream",
     "text": [
      "Three dimensional NumPy Array : \n",
      " [[[1 2 3]\n",
      "  [1 2 3]\n",
      "  [1 2 3]]\n",
      "\n",
      " [[1 2 3]\n",
      "  [1 2 3]\n",
      "  [1 2 3]]\n",
      "\n",
      " [[1 2 3]\n",
      "  [1 2 3]\n",
      "  [1 2 3]]]\n",
      "Shape of arr_3D =  (3, 3, 3)\n"
     ]
    }
   ],
   "source": [
    "arr_3D = np.array([[[1, 2, 3], [1, 2, 3], [1, 2, 3]], [[1, 2, 3], [1, 2, 3], [1, 2, 3]], [[1, 2, 3], [1, 2, 3], [1, 2, 3]]]) # create 3D array\n",
    "print(\"Three dimensional NumPy Array : \\n\", arr_3D)\n",
    " \n",
    "shape_of_arr_3D = np.shape(arr_3D) # find shape of NumPy array arr_3D\n",
    "print(\"Shape of arr_3D = \", shape_of_arr_3D) # print shape_of_arr_3D"
   ]
  },
  {
   "cell_type": "markdown",
   "id": "9f79e6be",
   "metadata": {},
   "source": [
    "The np.shape() gives a return of three-dimensional array in a  tuple (no. of 2D arrays, rows, columns)."
   ]
  },
  {
   "cell_type": "markdown",
   "id": "da63a653",
   "metadata": {},
   "source": [
    "# Question: Find the shape of below array and print it."
   ]
  },
  {
   "cell_type": "markdown",
   "id": "cdb5e0b0",
   "metadata": {},
   "source": [
    "student_info = np.array([['id', 'name', 'percentage', 'pass or fail'],\n",
    "\n",
    "                     [101, 'Ajay', 80, 'pass'], \n",
    "                     \n",
    "                     [102, 'John', 75, 'pass'],\n",
    "                     \n",
    "                     [103, 'Abraham',33, 'fail'],\n",
    "                     \n",
    "                     [104, 'Oprah',52, 'pass']])\n",
    "                     "
   ]
  },
  {
   "cell_type": "markdown",
   "id": "51985427",
   "metadata": {},
   "source": [
    "# Reshaping arrays"
   ]
  },
  {
   "cell_type": "markdown",
   "id": "837d64d8",
   "metadata": {},
   "source": [
    "Reshaping means changing the shape of an array.\n",
    "\n",
    "The shape of an array is the number of elements in each dimension.\n",
    "\n",
    "By reshaping we can add or remove dimensions or change number of elements in each dimension."
   ]
  },
  {
   "cell_type": "markdown",
   "id": "db36bad9",
   "metadata": {},
   "source": [
    "Reshape From 1-D to 2-D"
   ]
  },
  {
   "cell_type": "code",
   "execution_count": 21,
   "id": "89aa8504",
   "metadata": {},
   "outputs": [
    {
     "name": "stdout",
     "output_type": "stream",
     "text": [
      "[[ 1  2  3]\n",
      " [ 4  5  6]\n",
      " [ 7  8  9]\n",
      " [10 11 12]]\n"
     ]
    }
   ],
   "source": [
    "arr = np.array([1, 2, 3, 4, 5, 6, 7, 8, 9, 10, 11, 12])\n",
    "\n",
    "newarr = arr.reshape(4, 3)\n",
    "\n",
    "print(newarr)\n"
   ]
  },
  {
   "cell_type": "markdown",
   "id": "bc02a95f",
   "metadata": {},
   "source": [
    "\n",
    "Reshape From 1-D to 3-D"
   ]
  },
  {
   "cell_type": "code",
   "execution_count": 24,
   "id": "4fc4e42d",
   "metadata": {},
   "outputs": [
    {
     "name": "stdout",
     "output_type": "stream",
     "text": [
      "[[[ 1  2]\n",
      "  [ 3  4]\n",
      "  [ 5  6]]\n",
      "\n",
      " [[ 7  8]\n",
      "  [ 9 10]\n",
      "  [11 12]]]\n"
     ]
    }
   ],
   "source": [
    "arr = np.array([1, 2, 3, 4, 5, 6, 7, 8, 9, 10, 11, 12])\n",
    "\n",
    "newarr = arr.reshape(2, 3, 2)\n",
    "\n",
    "print(newarr)"
   ]
  },
  {
   "cell_type": "markdown",
   "id": "38c040db",
   "metadata": {},
   "source": [
    "# Can We Reshape Into any Shape?"
   ]
  },
  {
   "cell_type": "markdown",
   "id": "714ff180",
   "metadata": {},
   "source": [
    "Yes, as long as the elements required for reshaping are equal in both shapes.\n",
    "\n",
    "We can reshape an 8 elements 1D array into 4 elements in 2 rows 2D array but we cannot reshape it into a 3 elements 3 rows 2D array as that would require 3x3 = 9 elements."
   ]
  },
  {
   "cell_type": "markdown",
   "id": "fcc27ff5",
   "metadata": {},
   "source": [
    "Example:\n",
    "    \n",
    "Try converting 1D array with 8 elements to a 2D array with 3 elements in each dimension (will raise an error):\n",
    "\n"
   ]
  },
  {
   "cell_type": "code",
   "execution_count": 27,
   "id": "d76343d1",
   "metadata": {},
   "outputs": [
    {
     "ename": "ValueError",
     "evalue": "cannot reshape array of size 8 into shape (3,3)",
     "output_type": "error",
     "traceback": [
      "\u001b[1;31m---------------------------------------------------------------------------\u001b[0m",
      "\u001b[1;31mValueError\u001b[0m                                Traceback (most recent call last)",
      "Cell \u001b[1;32mIn[27], line 3\u001b[0m\n\u001b[0;32m      1\u001b[0m arr \u001b[38;5;241m=\u001b[39m np\u001b[38;5;241m.\u001b[39marray([\u001b[38;5;241m1\u001b[39m, \u001b[38;5;241m2\u001b[39m, \u001b[38;5;241m3\u001b[39m, \u001b[38;5;241m4\u001b[39m, \u001b[38;5;241m5\u001b[39m, \u001b[38;5;241m6\u001b[39m, \u001b[38;5;241m7\u001b[39m, \u001b[38;5;241m8\u001b[39m])\n\u001b[1;32m----> 3\u001b[0m newarr \u001b[38;5;241m=\u001b[39m \u001b[43marr\u001b[49m\u001b[38;5;241;43m.\u001b[39;49m\u001b[43mreshape\u001b[49m\u001b[43m(\u001b[49m\u001b[38;5;241;43m3\u001b[39;49m\u001b[43m,\u001b[49m\u001b[43m \u001b[49m\u001b[38;5;241;43m3\u001b[39;49m\u001b[43m)\u001b[49m\n\u001b[0;32m      5\u001b[0m \u001b[38;5;28mprint\u001b[39m(newarr)\n",
      "\u001b[1;31mValueError\u001b[0m: cannot reshape array of size 8 into shape (3,3)"
     ]
    }
   ],
   "source": [
    "arr = np.array([1, 2, 3, 4, 5, 6, 7, 8])\n",
    "\n",
    "newarr = arr.reshape(3, 3)\n",
    "\n",
    "print(newarr)"
   ]
  },
  {
   "cell_type": "markdown",
   "id": "14ab13d4",
   "metadata": {},
   "source": [
    "Check if the returned array is a copy or a view:"
   ]
  },
  {
   "cell_type": "code",
   "execution_count": null,
   "id": "045d6de8",
   "metadata": {},
   "outputs": [],
   "source": [
    "arr = np.array([1, 2, 3, 4, 5, 6, 7, 8])\n",
    "\n",
    "print(arr.reshape(2, 4).base)"
   ]
  },
  {
   "cell_type": "markdown",
   "id": "487949b7",
   "metadata": {},
   "source": [
    "The example above returns the original array, so it is a view.\n",
    "\n"
   ]
  },
  {
   "cell_type": "markdown",
   "id": "121f5848",
   "metadata": {},
   "source": [
    "# Unknown Dimension"
   ]
  },
  {
   "cell_type": "markdown",
   "id": "eaf1b136",
   "metadata": {},
   "source": [
    "You are allowed to have one \"unknown\" dimension.\n",
    "\n",
    "Meaning that you do not have to specify an exact number for one of the dimensions in the reshape method.\n",
    "\n",
    "Pass -1 as the value, and NumPy will calculate this number for you.\n",
    "\n",
    "Example\n",
    "\n",
    "Convert 1D array with 8 elements to 3D array with 2x2 elements:"
   ]
  },
  {
   "cell_type": "code",
   "execution_count": 30,
   "id": "5d6152bd",
   "metadata": {},
   "outputs": [
    {
     "name": "stdout",
     "output_type": "stream",
     "text": [
      "[[[1 2]\n",
      "  [3 4]]\n",
      "\n",
      " [[5 6]\n",
      "  [7 8]]]\n"
     ]
    }
   ],
   "source": [
    "arr = np.array([1, 2, 3, 4, 5, 6, 7, 8])\n",
    "\n",
    "newarr = arr.reshape(2, 2, -1)\n",
    "\n",
    "print(newarr)"
   ]
  },
  {
   "cell_type": "markdown",
   "id": "56f75f73",
   "metadata": {},
   "source": [
    "# Flattening the arrays"
   ]
  },
  {
   "cell_type": "markdown",
   "id": "218f656e",
   "metadata": {},
   "source": [
    "Flattening array means converting a multidimensional array into a 1D array.\n",
    "\n",
    "We can use reshape(-1) to do this.\n",
    "\n",
    "Example\n",
    "\n",
    "Convert the array into a 1D array:"
   ]
  },
  {
   "cell_type": "code",
   "execution_count": 32,
   "id": "38dbca9d",
   "metadata": {},
   "outputs": [
    {
     "name": "stdout",
     "output_type": "stream",
     "text": [
      "[1 2 3 4 5 6]\n"
     ]
    }
   ],
   "source": [
    "arr = np.array([[1, 2, 3], [4, 5, 6]])\n",
    "\n",
    "newarr = arr.reshape(-1)\n",
    "\n",
    "print(newarr)"
   ]
  },
  {
   "cell_type": "markdown",
   "id": "ccfebc15",
   "metadata": {},
   "source": [
    "# NumPy np.newaxis()"
   ]
  },
  {
   "cell_type": "markdown",
   "id": "b7c95222",
   "metadata": {},
   "source": [
    "The newaxis() object in NumPy allows us to increase the dimensions of an array by adding new axes. This function is an alias for setting the None parameter during array declaration. However, let us explore various examples and use cases using the newaxis method."
   ]
  },
  {
   "cell_type": "markdown",
   "id": "74ffea5b",
   "metadata": {},
   "source": [
    "The example shown below converts a 1-dimensional array into a 2D array as shown below:"
   ]
  },
  {
   "cell_type": "code",
   "execution_count": 34,
   "id": "87568301",
   "metadata": {},
   "outputs": [
    {
     "name": "stdout",
     "output_type": "stream",
     "text": [
      "[1 2 3 4 5]\n",
      "[[1 2 3 4 5]]\n"
     ]
    }
   ],
   "source": [
    "arr = np.array([1, 2, 3, 4, 5])\n",
    "print(arr)\n",
    "new_arr = arr[np.newaxis]\n",
    "print(new_arr)"
   ]
  },
  {
   "cell_type": "markdown",
   "id": "2f8a8638",
   "metadata": {},
   "source": [
    "As mentioned, the newaxis method is very similar to using the None parameter as shown below:"
   ]
  },
  {
   "cell_type": "code",
   "execution_count": 35,
   "id": "f3858e2f",
   "metadata": {},
   "outputs": [
    {
     "name": "stdout",
     "output_type": "stream",
     "text": [
      "[1 2 3 4 5]\n",
      "[[1 2 3 4 5]]\n"
     ]
    }
   ],
   "source": [
    "arr = np.array([1, 2, 3, 4, 5])\n",
    "print(arr)\n",
    "new_arr = arr[None]\n",
    "print(new_arr)"
   ]
  },
  {
   "cell_type": "markdown",
   "id": "cf3bb04f",
   "metadata": {},
   "source": [
    "What happens when you apply the newaxis on a 2D array. Take a look at the example below:"
   ]
  },
  {
   "cell_type": "code",
   "execution_count": 36,
   "id": "5a8080e9",
   "metadata": {},
   "outputs": [
    {
     "name": "stdout",
     "output_type": "stream",
     "text": [
      "[[1 2 3]\n",
      " [4 5 6]]\n",
      "[[[1 2 3]\n",
      "  [4 5 6]]]\n"
     ]
    }
   ],
   "source": [
    "arr = np.array([[1, 2, 3], [4, 5, 6]])\n",
    "print(arr)\n",
    "new_arr = arr[np.newaxis]\n",
    "print(new_arr)"
   ]
  },
  {
   "cell_type": "markdown",
   "id": "376edd33",
   "metadata": {},
   "source": [
    "You can use multiple np.newaxis at once. Multiple dimensions are added.\n",
    "You can insert more than one axis as shown:"
   ]
  },
  {
   "cell_type": "code",
   "execution_count": 47,
   "id": "a1f8e186",
   "metadata": {},
   "outputs": [
    {
     "name": "stdout",
     "output_type": "stream",
     "text": [
      "[[1 2 3]\n",
      " [4 5 6]]\n",
      "[[[[1 2 3]\n",
      "   [4 5 6]]]]\n"
     ]
    }
   ],
   "source": [
    "arr = np.array([[1, 2, 3], [4, 5, 6]])\n",
    "print(arr)\n",
    "new_arr = arr[np.newaxis, np.newaxis]\n",
    "print(new_arr)"
   ]
  },
  {
   "cell_type": "code",
   "execution_count": 48,
   "id": "6739cadf",
   "metadata": {},
   "outputs": [
    {
     "name": "stdout",
     "output_type": "stream",
     "text": [
      "[[0 1 2]\n",
      " [3 4 5]]\n"
     ]
    }
   ],
   "source": [
    "a = np.arange(6).reshape(2, 3)\n",
    "print(a)"
   ]
  },
  {
   "cell_type": "code",
   "execution_count": 49,
   "id": "9e6295b5",
   "metadata": {},
   "outputs": [
    {
     "name": "stdout",
     "output_type": "stream",
     "text": [
      "(2, 3)\n"
     ]
    }
   ],
   "source": [
    "print(a.shape)"
   ]
  },
  {
   "cell_type": "code",
   "execution_count": 50,
   "id": "11efd228",
   "metadata": {},
   "outputs": [
    {
     "name": "stdout",
     "output_type": "stream",
     "text": [
      "[[[0]\n",
      "  [1]\n",
      "  [2]]\n",
      "\n",
      " [[3]\n",
      "  [4]\n",
      "  [5]]]\n",
      "(2, 3)\n"
     ]
    }
   ],
   "source": [
    "print(a[:, :, np.newaxis])\n",
    "print(a.shape)"
   ]
  },
  {
   "cell_type": "code",
   "execution_count": 51,
   "id": "e61ddac3",
   "metadata": {},
   "outputs": [
    {
     "name": "stdout",
     "output_type": "stream",
     "text": [
      "(2, 3, 1)\n"
     ]
    }
   ],
   "source": [
    "print(a[:, :, np.newaxis].shape)"
   ]
  },
  {
   "cell_type": "code",
   "execution_count": 52,
   "id": "17f1d963",
   "metadata": {},
   "outputs": [
    {
     "name": "stdout",
     "output_type": "stream",
     "text": [
      "[[[0 1 2]]\n",
      "\n",
      " [[3 4 5]]]\n",
      "(2, 1, 3)\n"
     ]
    }
   ],
   "source": [
    "print(a[:, np.newaxis, :])\n",
    "print(a[:, np.newaxis, :].shape)"
   ]
  },
  {
   "cell_type": "code",
   "execution_count": 53,
   "id": "53aace7a",
   "metadata": {},
   "outputs": [
    {
     "name": "stdout",
     "output_type": "stream",
     "text": [
      "[[[0 1 2]\n",
      "  [3 4 5]]]\n",
      "(1, 2, 3)\n"
     ]
    }
   ],
   "source": [
    "print(a[np.newaxis, :, :])\n",
    "print(a[np.newaxis, :, :].shape)"
   ]
  },
  {
   "cell_type": "markdown",
   "id": "9a94b67f",
   "metadata": {},
   "source": [
    "# Numpy array indexing"
   ]
  },
  {
   "cell_type": "markdown",
   "id": "3f3f5c98",
   "metadata": {},
   "source": [
    "Access Array Elements\n",
    "\n",
    "Array indexing is the same as accessing an array element.\n",
    "\n",
    "You can access an array element by referring to its index number.\n",
    "\n",
    "The indexes in NumPy arrays start with 0, meaning that the first element has index 0, and the second has index 1 etc."
   ]
  },
  {
   "cell_type": "code",
   "execution_count": 55,
   "id": "62d34117",
   "metadata": {},
   "outputs": [
    {
     "name": "stdout",
     "output_type": "stream",
     "text": [
      "1\n"
     ]
    }
   ],
   "source": [
    "arr = np.array([1, 2, 3, 4])\n",
    "\n",
    "print(arr[0])"
   ]
  },
  {
   "cell_type": "code",
   "execution_count": 56,
   "id": "e5243034",
   "metadata": {},
   "outputs": [
    {
     "name": "stdout",
     "output_type": "stream",
     "text": [
      "7\n"
     ]
    }
   ],
   "source": [
    "# Get third and fourth elements from the following array and add them.\n",
    "print(arr[2] + arr[3])"
   ]
  },
  {
   "cell_type": "code",
   "execution_count": 58,
   "id": "9d01c4d9",
   "metadata": {},
   "outputs": [
    {
     "name": "stdout",
     "output_type": "stream",
     "text": [
      "12\n"
     ]
    }
   ],
   "source": [
    "print(arr[2] * arr[3]) #multiplication"
   ]
  },
  {
   "cell_type": "markdown",
   "id": "0594b0a9",
   "metadata": {},
   "source": [
    "#Access 2-D Arrays\n",
    "\n",
    "To access elements from 2-D arrays we can use comma separated integers representing the dimension and the index of the element.\n",
    "\n",
    "Think of 2-D arrays like a table with rows and columns, where the dimension represents the row and the index represents the column."
   ]
  },
  {
   "cell_type": "code",
   "execution_count": 62,
   "id": "38ab4706",
   "metadata": {},
   "outputs": [
    {
     "name": "stdout",
     "output_type": "stream",
     "text": [
      "2nd element on 1st row:  2\n"
     ]
    }
   ],
   "source": [
    "arr = np.array([[1,2,3,4,5], [6,7,8,9,10]])\n",
    "print('2nd element on 1st row: ', arr[0, 1])"
   ]
  },
  {
   "cell_type": "code",
   "execution_count": 63,
   "id": "0f265fb2",
   "metadata": {},
   "outputs": [
    {
     "name": "stdout",
     "output_type": "stream",
     "text": [
      "5th element on 2nd row:  10\n"
     ]
    }
   ],
   "source": [
    "print('5th element on 2nd row: ', arr[1, 4])"
   ]
  },
  {
   "cell_type": "markdown",
   "id": "764ba668",
   "metadata": {},
   "source": [
    "Access 3-D Arrays\n",
    "\n",
    "To access elements from 3-D arrays we can use comma separated integers representing the dimensions and the index of the element.\n",
    "\n"
   ]
  },
  {
   "cell_type": "code",
   "execution_count": 64,
   "id": "2dafd55a",
   "metadata": {},
   "outputs": [
    {
     "name": "stdout",
     "output_type": "stream",
     "text": [
      "6\n"
     ]
    }
   ],
   "source": [
    "arr = np.array([[[1, 2, 3], [4, 5, 6]], [[7, 8, 9], [10, 11, 12]]])\n",
    "\n",
    "print(arr[0, 1, 2])"
   ]
  },
  {
   "cell_type": "markdown",
   "id": "18e55d08",
   "metadata": {},
   "source": [
    "# Negative Indexing"
   ]
  },
  {
   "cell_type": "markdown",
   "id": "7b2d6eec",
   "metadata": {},
   "source": [
    "Use negative indexing to access an array from the end."
   ]
  },
  {
   "cell_type": "code",
   "execution_count": 65,
   "id": "ca593e78",
   "metadata": {},
   "outputs": [
    {
     "name": "stdout",
     "output_type": "stream",
     "text": [
      "Last element from 2nd dim:  10\n"
     ]
    }
   ],
   "source": [
    "arr = np.array([[1,2,3,4,5], [6,7,8,9,10]])\n",
    "\n",
    "print('Last element from 2nd dim: ', arr[1, -1])"
   ]
  },
  {
   "cell_type": "markdown",
   "id": "9d9926d0",
   "metadata": {},
   "source": [
    "# Numpy array indexing"
   ]
  },
  {
   "cell_type": "markdown",
   "id": "5ff290fe",
   "metadata": {},
   "source": [
    "Slicing arrays\n",
    "Slicing in python means taking elements from one given index to another given index.\n",
    "\n",
    "We pass slice instead of index like this: [start:end].\n",
    "\n",
    "We can also define the step, like this: [start:end:step].\n",
    "\n",
    "If we don't pass start its considered 0\n",
    "\n",
    "If we don't pass end its considered length of array in that dimension\n",
    "\n",
    "If we don't pass step its considered 1"
   ]
  },
  {
   "cell_type": "code",
   "execution_count": 66,
   "id": "0ea445e2",
   "metadata": {},
   "outputs": [
    {
     "name": "stdout",
     "output_type": "stream",
     "text": [
      "[2 3 4 5]\n"
     ]
    }
   ],
   "source": [
    "arr = np.array([1, 2, 3, 4, 5, 6, 7])\n",
    "\n",
    "print(arr[1:5])"
   ]
  },
  {
   "cell_type": "code",
   "execution_count": 67,
   "id": "c4846086",
   "metadata": {},
   "outputs": [
    {
     "name": "stdout",
     "output_type": "stream",
     "text": [
      "[5 6 7]\n"
     ]
    }
   ],
   "source": [
    "\n",
    "print(arr[4:])"
   ]
  },
  {
   "cell_type": "code",
   "execution_count": 69,
   "id": "9e784bd7",
   "metadata": {},
   "outputs": [
    {
     "name": "stdout",
     "output_type": "stream",
     "text": [
      "[1 2 3 4]\n"
     ]
    }
   ],
   "source": [
    "# Slice elements from the beginning to index 4 (not included):\n",
    "\n",
    "arr = np.array([1, 2, 3, 4, 5, 6, 7])\n",
    "\n",
    "print(arr[:4])"
   ]
  },
  {
   "cell_type": "markdown",
   "id": "2b65eff5",
   "metadata": {},
   "source": [
    "# Negative slicing"
   ]
  },
  {
   "cell_type": "code",
   "execution_count": 70,
   "id": "e0805500",
   "metadata": {},
   "outputs": [
    {
     "name": "stdout",
     "output_type": "stream",
     "text": [
      "[1 2 3]\n"
     ]
    }
   ],
   "source": [
    "print(arr[:-4])"
   ]
  },
  {
   "cell_type": "code",
   "execution_count": 71,
   "id": "810208c1",
   "metadata": {},
   "outputs": [
    {
     "name": "stdout",
     "output_type": "stream",
     "text": [
      "[5 6]\n"
     ]
    }
   ],
   "source": [
    "print(arr[-3:-1])"
   ]
  },
  {
   "cell_type": "code",
   "execution_count": 72,
   "id": "8e9b0d76",
   "metadata": {},
   "outputs": [
    {
     "name": "stdout",
     "output_type": "stream",
     "text": [
      "[2 4]\n"
     ]
    }
   ],
   "source": [
    "print(arr[1:5:2])"
   ]
  },
  {
   "cell_type": "code",
   "execution_count": 73,
   "id": "cda02c1b",
   "metadata": {},
   "outputs": [
    {
     "name": "stdout",
     "output_type": "stream",
     "text": [
      "[1 3 5 7]\n"
     ]
    }
   ],
   "source": [
    "print(arr[::2])"
   ]
  },
  {
   "cell_type": "markdown",
   "id": "91ca22be",
   "metadata": {},
   "source": [
    "# Slicing 2-D Arrays"
   ]
  },
  {
   "cell_type": "code",
   "execution_count": 75,
   "id": "96bfd795",
   "metadata": {},
   "outputs": [
    {
     "name": "stdout",
     "output_type": "stream",
     "text": [
      "[7 8 9]\n"
     ]
    }
   ],
   "source": [
    "# From the second element, slice elements from index 1 to index 4 (not included):\n",
    "arr = np.array([[1, 2, 3, 4, 5], [6, 7, 8, 9, 10]])\n",
    "print(arr[1, 1:4])"
   ]
  },
  {
   "cell_type": "code",
   "execution_count": 77,
   "id": "9496e250",
   "metadata": {},
   "outputs": [
    {
     "name": "stdout",
     "output_type": "stream",
     "text": [
      "[3 8]\n"
     ]
    }
   ],
   "source": [
    "# From both elements, return index 2:\n",
    "arr = np.array([[1, 2, 3, 4, 5], [6, 7, 8, 9, 10]])\n",
    "\n",
    "print(arr[0:2, 2])"
   ]
  },
  {
   "cell_type": "code",
   "execution_count": 78,
   "id": "24cb29a6",
   "metadata": {},
   "outputs": [
    {
     "name": "stdout",
     "output_type": "stream",
     "text": [
      "[[2 3 4]\n",
      " [7 8 9]]\n"
     ]
    }
   ],
   "source": [
    "# From both elements, slice index 1 to index 4 (not included), this will return a 2-D array:\n",
    "print(arr[0:2, 1:4])"
   ]
  },
  {
   "cell_type": "markdown",
   "id": "b0ca7457",
   "metadata": {},
   "source": [
    "# Slicing of 3-D Arrays"
   ]
  },
  {
   "cell_type": "markdown",
   "id": "6ff47f4d",
   "metadata": {},
   "source": [
    "we can select those as before with x[1:].\n",
    "\n",
    "All the elements are in first and second rows of both the two-dimensional array.  Row index should be represented as 0:2. \n",
    "\n",
    "Column index is 1:4 as the elements are in first, second and third column.  Combining all together:"
   ]
  },
  {
   "cell_type": "code",
   "execution_count": 80,
   "id": "5f337179",
   "metadata": {},
   "outputs": [
    {
     "data": {
      "text/plain": [
       "array([[[ 0,  1,  2,  3,  4],\n",
       "        [ 5,  6,  7,  8,  9],\n",
       "        [10, 11, 12, 13, 14]],\n",
       "\n",
       "       [[15, 16, 17, 18, 19],\n",
       "        [20, 21, 22, 23, 24],\n",
       "        [25, 26, 27, 28, 29]],\n",
       "\n",
       "       [[30, 31, 32, 33, 34],\n",
       "        [35, 36, 37, 38, 39],\n",
       "        [40, 41, 42, 43, 44]]])"
      ]
     },
     "execution_count": 80,
     "metadata": {},
     "output_type": "execute_result"
    }
   ],
   "source": [
    "x = np.arange(45).reshape(3,3,5)\n",
    "x"
   ]
  },
  {
   "cell_type": "code",
   "execution_count": 81,
   "id": "b923ac92",
   "metadata": {},
   "outputs": [
    {
     "data": {
      "text/plain": [
       "array([[[16, 17, 18],\n",
       "        [21, 22, 23]],\n",
       "\n",
       "       [[31, 32, 33],\n",
       "        [36, 37, 38]]])"
      ]
     },
     "execution_count": 81,
     "metadata": {},
     "output_type": "execute_result"
    }
   ],
   "source": [
    "x[1:, 0:2, 1:4]"
   ]
  },
  {
   "cell_type": "markdown",
   "id": "df8415f7",
   "metadata": {},
   "source": [
    "# Copy()"
   ]
  },
  {
   "cell_type": "markdown",
   "id": "e36ec6c3",
   "metadata": {},
   "source": [
    "The copy owns the data and any changes made to the copy will not affect original array, and any changes made to the original array will not affect the copy."
   ]
  },
  {
   "cell_type": "markdown",
   "id": "ec0110d7",
   "metadata": {},
   "source": [
    "Make a copy, change the original array, and display both arrays:"
   ]
  },
  {
   "cell_type": "code",
   "execution_count": 83,
   "id": "daa75d99",
   "metadata": {},
   "outputs": [
    {
     "name": "stdout",
     "output_type": "stream",
     "text": [
      "[42  2  3  4  5]\n",
      "[1 2 3 4 5]\n"
     ]
    }
   ],
   "source": [
    "arr = np.array([1, 2, 3, 4, 5])\n",
    "x = arr.copy()\n",
    "arr[0] = 42\n",
    "\n",
    "print(arr)\n",
    "print(x)"
   ]
  },
  {
   "cell_type": "markdown",
   "id": "a6cc5fe0",
   "metadata": {},
   "source": [
    "Note : The copy SHOULD NOT be affected by the changes made to the original array."
   ]
  },
  {
   "cell_type": "code",
   "execution_count": 86,
   "id": "87a22a4a",
   "metadata": {},
   "outputs": [
    {
     "data": {
      "text/plain": [
       "array([[1, 2, 3],\n",
       "       [4, 5, 6]])"
      ]
     },
     "execution_count": 86,
     "metadata": {},
     "output_type": "execute_result"
    }
   ],
   "source": [
    "x = np.array([[1,2,3],[4,5,6]])\n",
    "y = x.copy()\n",
    "y"
   ]
  },
  {
   "cell_type": "code",
   "execution_count": 87,
   "id": "9851abef",
   "metadata": {},
   "outputs": [
    {
     "name": "stdout",
     "output_type": "stream",
     "text": [
      "Original array: \n",
      "[[12 18 44]\n",
      " [66 37 89]\n",
      " [31 47 88]]\n",
      "\n",
      "Copied array: \n",
      "[[12 18 44]\n",
      " [66 37 89]\n",
      " [31 47 88]]\n"
     ]
    }
   ],
   "source": [
    "# Creating a 3-D numpy array using np.array()\n",
    "array = np.array([[12,18,44], [66,37,89],[31,47,88]])\n",
    "print(\"Original array: \")\n",
    "print(array)\n",
    " \n",
    "# using numpy.copy() function\n",
    "copy_array = np.copy(array)\n",
    "print(\"\\nCopied array: \")\n",
    "print(copy_array)"
   ]
  },
  {
   "cell_type": "code",
   "execution_count": null,
   "id": "79836905",
   "metadata": {},
   "outputs": [],
   "source": []
  }
 ],
 "metadata": {
  "kernelspec": {
   "display_name": "Python 3 (ipykernel)",
   "language": "python",
   "name": "python3"
  },
  "language_info": {
   "codemirror_mode": {
    "name": "ipython",
    "version": 3
   },
   "file_extension": ".py",
   "mimetype": "text/x-python",
   "name": "python",
   "nbconvert_exporter": "python",
   "pygments_lexer": "ipython3",
   "version": "3.10.4"
  }
 },
 "nbformat": 4,
 "nbformat_minor": 5
}
