{
 "cells": [
  {
   "cell_type": "markdown",
   "id": "804ef758",
   "metadata": {},
   "source": [
    "To create a basic array firts we have to import the numpy"
   ]
  },
  {
   "cell_type": "code",
   "execution_count": 1,
   "id": "4ff478e1",
   "metadata": {},
   "outputs": [],
   "source": [
    "import numpy as np"
   ]
  },
  {
   "cell_type": "markdown",
   "id": "0c1306b9",
   "metadata": {},
   "source": [
    "To creating the basic numpy array we use in-built array function present in numpy"
   ]
  },
  {
   "cell_type": "code",
   "execution_count": 10,
   "id": "81e549e1",
   "metadata": {},
   "outputs": [
    {
     "name": "stdout",
     "output_type": "stream",
     "text": [
      "Basic numpy array -  [1 2 3 4 5 6 7 8 9 0]\n"
     ]
    }
   ],
   "source": [
    "a = np.array([1,2,3,4,5,6,7,8,9,0])\n",
    "print(\"Basic numpy array - \", a)"
   ]
  },
  {
   "cell_type": "markdown",
   "id": "b0cbd993",
   "metadata": {},
   "source": [
    "Creating a empty array"
   ]
  },
  {
   "cell_type": "code",
   "execution_count": 11,
   "id": "73b6e8db",
   "metadata": {},
   "outputs": [
    {
     "name": "stdout",
     "output_type": "stream",
     "text": [
      "Empty numpy array -  []\n"
     ]
    }
   ],
   "source": [
    "b = np.array([])\n",
    "print(\"Empty numpy array - \", b)"
   ]
  },
  {
   "cell_type": "markdown",
   "id": "d5f0fcff",
   "metadata": {},
   "source": [
    "Numpy Array within the range of the values"
   ]
  },
  {
   "cell_type": "markdown",
   "id": "48dc1314",
   "metadata": {},
   "source": [
    "To create an numpy array with the range of values we use the arrange() in-built function present in the numpy"
   ]
  },
  {
   "cell_type": "markdown",
   "id": "ce94a5a6",
   "metadata": {},
   "source": [
    "arange can be called with a varying number of positional arguments\n",
    "\n",
    "\n",
    "arange(stop): Values are generated within the half-open interval. In other words, the interval including start but excluding stop.\n",
    "\n",
    "arange(start, stop): Values are generated within the half-open interval.\n",
    "\n",
    "arange(start, stop, step) Values are generated within the half-open interval with spacing between values given by step.\n"
   ]
  },
  {
   "cell_type": "markdown",
   "id": "1e7c7aaa",
   "metadata": {},
   "source": [
    "Creating array with in the range of the 0 to 5"
   ]
  },
  {
   "cell_type": "code",
   "execution_count": 6,
   "id": "40ce5ca1",
   "metadata": {},
   "outputs": [
    {
     "name": "stdout",
     "output_type": "stream",
     "text": [
      "Numpy array within the range of 0-5 -  [0 1 2 3 4]\n"
     ]
    }
   ],
   "source": [
    "b = np.arange(0, 5, dtype=int)\n",
    "print(\"Numpy array within the range of 0-5 - \", b)"
   ]
  },
  {
   "cell_type": "markdown",
   "id": "d240d76c",
   "metadata": {},
   "source": [
    "Creating array with in the range of 0 to 100 with steps of 2"
   ]
  },
  {
   "cell_type": "code",
   "execution_count": 9,
   "id": "9714af5c",
   "metadata": {},
   "outputs": [
    {
     "name": "stdout",
     "output_type": "stream",
     "text": [
      "Numpy array  with in range of 0-100 with step of 2 -  [ 0  2  4  6  8 10 12 14 16 18 20 22 24 26 28 30 32 34 36 38 40 42 44 46\n",
      " 48 50 52 54 56 58 60 62 64 66 68 70 72 74 76 78 80 82 84 86 88 90 92 94\n",
      " 96 98]\n"
     ]
    }
   ],
   "source": [
    "d = np.arange(0,100,2, dtype=int)\n",
    "print(\"Numpy array  with in range of 0-100 with step of 2 - \", d)"
   ]
  },
  {
   "cell_type": "code",
   "execution_count": null,
   "id": "2bd3744b",
   "metadata": {},
   "outputs": [],
   "source": []
  }
 ],
 "metadata": {
  "kernelspec": {
   "display_name": "Python 3 (ipykernel)",
   "language": "python",
   "name": "python3"
  },
  "language_info": {
   "codemirror_mode": {
    "name": "ipython",
    "version": 3
   },
   "file_extension": ".py",
   "mimetype": "text/x-python",
   "name": "python",
   "nbconvert_exporter": "python",
   "pygments_lexer": "ipython3",
   "version": "3.10.5"
  }
 },
 "nbformat": 4,
 "nbformat_minor": 5
}
