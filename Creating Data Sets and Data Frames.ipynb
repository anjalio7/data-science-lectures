{
 "cells": [
  {
   "cell_type": "code",
   "execution_count": 2,
   "id": "2176c5c6",
   "metadata": {},
   "outputs": [],
   "source": [
    "# We import the pandas and rename with the as keyword that we do in the modules in the python\n",
    "import pandas as pd"
   ]
  },
  {
   "cell_type": "markdown",
   "id": "a37caf2b",
   "metadata": {},
   "source": [
    "DATA SETS -  Data sets can come in any form either a custome data set or any csv file or any other data form. Data Sets define what will we do with the data in the future work. We use the pandas which will ease our work to intrat with these types of the data sets and we can generate any type of the output according to our need."
   ]
  },
  {
   "cell_type": "markdown",
   "id": "c8b60073",
   "metadata": {},
   "source": [
    "2. We use the pandas and pandas turn these data sets into the data frames"
   ]
  },
  {
   "cell_type": "markdown",
   "id": "55ae0b69",
   "metadata": {},
   "source": [
    "Data Frames - Data Frames are in th form of tables, where the data will present in the tabular form and its easy to grasp for any one. The columns in the data frames we also called them series and data in the row called row as the same specified in any table."
   ]
  },
  {
   "cell_type": "code",
   "execution_count": 3,
   "id": "90482ebf",
   "metadata": {},
   "outputs": [
    {
     "name": "stdout",
     "output_type": "stream",
     "text": [
      "0    1\n",
      "1    2\n",
      "2    3\n",
      "3    4\n",
      "4    5\n",
      "5    6\n",
      "6    7\n",
      "7    8\n",
      "8    9\n",
      "9    0\n",
      "dtype: int64\n"
     ]
    }
   ],
   "source": [
    "# Creating the simple data set with the list\n",
    "a = [1,2,3,4,5,6,7,8,9,0]\n",
    "# Now we are using the Seires function to create a column\n",
    "\n",
    "result = pd.Series(a)\n",
    "\n",
    "print(result)"
   ]
  },
  {
   "cell_type": "markdown",
   "id": "833ef4b5",
   "metadata": {},
   "source": [
    "As we can see that the data from the list are generated as the column with the help of Series class. One more thing as you can see with the generated data it also print the index number of the data. We can use the index attribute to gave them the specified name to each index number. "
   ]
  },
  {
   "cell_type": "code",
   "execution_count": 4,
   "id": "c2fc0179",
   "metadata": {},
   "outputs": [
    {
     "name": "stdout",
     "output_type": "stream",
     "text": [
      "a    1\n",
      "b    2\n",
      "c    3\n",
      "d    4\n",
      "e    5\n",
      "f    6\n",
      "g    7\n",
      "h    8\n",
      "i    9\n",
      "j    0\n",
      "dtype: int64\n"
     ]
    }
   ],
   "source": [
    "result = pd.Series(a, index=(\"a\",\"b\",\"c\",\"d\",\"e\",\"f\",\"g\",\"h\",\"i\",\"j\"))\n",
    "print(result)"
   ]
  },
  {
   "cell_type": "markdown",
   "id": "579d2074",
   "metadata": {},
   "source": [
    "We can also access these data sets by their index number or the label we specified them"
   ]
  },
  {
   "cell_type": "markdown",
   "id": "539ff7fa",
   "metadata": {},
   "source": [
    "We can also use the dictinary as an data sets"
   ]
  },
  {
   "cell_type": "code",
   "execution_count": 5,
   "id": "91058e3a",
   "metadata": {},
   "outputs": [
    {
     "name": "stdout",
     "output_type": "stream",
     "text": [
      "day1    420\n",
      "day2    380\n",
      "day3    390\n",
      "dtype: int64\n"
     ]
    }
   ],
   "source": [
    "data = {\"day1\": 420, \"day2\": 380, \"day3\": 390}\n",
    "\n",
    "result = pd.Series(data)\n",
    "\n",
    "print(result)"
   ]
  },
  {
   "cell_type": "markdown",
   "id": "57d79adb",
   "metadata": {},
   "source": [
    "Note the keys of the dictionary becomes the labels"
   ]
  },
  {
   "cell_type": "markdown",
   "id": "6de10657",
   "metadata": {},
   "source": [
    "We can also select only the sepcific items from the data sets by the Series class"
   ]
  },
  {
   "cell_type": "code",
   "execution_count": 7,
   "id": "4404e8eb",
   "metadata": {},
   "outputs": [
    {
     "name": "stdout",
     "output_type": "stream",
     "text": [
      "day1    420\n",
      "day2    380\n",
      "dtype: int64\n"
     ]
    }
   ],
   "source": [
    "result = pd.Series(data, index = [\"day1\", \"day2\"])\n",
    "\n",
    "print(result)"
   ]
  },
  {
   "cell_type": "markdown",
   "id": "1361ba41",
   "metadata": {},
   "source": [
    "DATA FRAMES"
   ]
  },
  {
   "cell_type": "markdown",
   "id": "f6ce0b94",
   "metadata": {},
   "source": [
    "The data sets are multi-dimensional form of the table and also we can call them the data frames"
   ]
  },
  {
   "cell_type": "markdown",
   "id": "beb0a634",
   "metadata": {},
   "source": [
    "Series is like a column, a DataFrame is the whole table"
   ]
  },
  {
   "cell_type": "code",
   "execution_count": 8,
   "id": "84721828",
   "metadata": {},
   "outputs": [
    {
     "name": "stdout",
     "output_type": "stream",
     "text": [
      "              name  duration\n",
      "0         Iron Man       120\n",
      "1  Captain America       125\n",
      "2           Avatar       400\n"
     ]
    }
   ],
   "source": [
    "data = {\n",
    "  \"name\": [\"Iron Man\", \"Captain America\", \"Avatar\"],\n",
    "  \"duration\": [120, 125, 400]\n",
    "}\n",
    "\n",
    "result = pd.DataFrame(data)\n",
    "\n",
    "print(result)"
   ]
  },
  {
   "cell_type": "markdown",
   "id": "bf0e2cca",
   "metadata": {},
   "source": [
    "As you can see that we use the DataFrame class to create the tabular form of the data and also ther index numbers "
   ]
  },
  {
   "cell_type": "code",
   "execution_count": null,
   "id": "911e440c",
   "metadata": {},
   "outputs": [],
   "source": []
  }
 ],
 "metadata": {
  "kernelspec": {
   "display_name": "Python 3 (ipykernel)",
   "language": "python",
   "name": "python3"
  },
  "language_info": {
   "codemirror_mode": {
    "name": "ipython",
    "version": 3
   },
   "file_extension": ".py",
   "mimetype": "text/x-python",
   "name": "python",
   "nbconvert_exporter": "python",
   "pygments_lexer": "ipython3",
   "version": "3.10.9"
  }
 },
 "nbformat": 4,
 "nbformat_minor": 5
}
