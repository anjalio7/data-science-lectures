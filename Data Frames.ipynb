{
 "cells": [
  {
   "cell_type": "markdown",
   "id": "914e21cf",
   "metadata": {},
   "source": [
    "DATA FRAMES"
   ]
  },
  {
   "cell_type": "markdown",
   "id": "091bf282",
   "metadata": {},
   "source": [
    "The data sets are multi-dimensional form of the table and also we can call them the data frames"
   ]
  },
  {
   "cell_type": "markdown",
   "id": "6f6e71e7",
   "metadata": {},
   "source": [
    "Series is like a column, a DataFrame is the whole table"
   ]
  },
  {
   "cell_type": "code",
   "execution_count": 2,
   "id": "14317c74",
   "metadata": {},
   "outputs": [],
   "source": [
    "import pandas as pd"
   ]
  },
  {
   "cell_type": "code",
   "execution_count": 6,
   "id": "3e4c024f",
   "metadata": {},
   "outputs": [],
   "source": [
    "data = {\n",
    "  \"products\": [\"Pizza\", \"Burger\", \"Spring Roles\"],\n",
    "  \"price\": [50, 40, 45]\n",
    "}\n",
    "\n",
    "#load data into a DataFrame object:\n",
    "r = pd.DataFrame(data)"
   ]
  },
  {
   "cell_type": "code",
   "execution_count": 7,
   "id": "96803b9e",
   "metadata": {},
   "outputs": [
    {
     "name": "stdout",
     "output_type": "stream",
     "text": [
      "       products  price\n",
      "0         Pizza     50\n",
      "1        Burger     40\n",
      "2  Spring Roles     45\n"
     ]
    }
   ],
   "source": [
    "print(r)"
   ]
  },
  {
   "cell_type": "markdown",
   "id": "f60eef15",
   "metadata": {},
   "source": [
    "Locate any Row in the DataFrames"
   ]
  },
  {
   "cell_type": "code",
   "execution_count": 8,
   "id": "d03a6124",
   "metadata": {},
   "outputs": [
    {
     "name": "stdout",
     "output_type": "stream",
     "text": [
      "products    Pizza\n",
      "price          50\n",
      "Name: 0, dtype: object\n"
     ]
    }
   ],
   "source": [
    "print(r.loc[0])"
   ]
  },
  {
   "cell_type": "markdown",
   "id": "8fbff4af",
   "metadata": {},
   "source": [
    "Pandas use the loc function to locate any row data according to the index number"
   ]
  },
  {
   "cell_type": "markdown",
   "id": "c7051a43",
   "metadata": {},
   "source": [
    "We can also locate multiple rows according to multiple index numbers"
   ]
  },
  {
   "cell_type": "code",
   "execution_count": 10,
   "id": "f89e799a",
   "metadata": {},
   "outputs": [
    {
     "name": "stdout",
     "output_type": "stream",
     "text": [
      "  products  price\n",
      "0    Pizza     50\n",
      "1   Burger     40\n"
     ]
    }
   ],
   "source": [
    "print(r.loc[[0, 1]])"
   ]
  },
  {
   "cell_type": "markdown",
   "id": "98f90e86",
   "metadata": {},
   "source": [
    "We can also named their inde number as a custom index names"
   ]
  },
  {
   "cell_type": "code",
   "execution_count": 11,
   "id": "f0ef1381",
   "metadata": {},
   "outputs": [],
   "source": [
    "data = {\n",
    "  \"products\": [\"Pizza\", \"Burger\", \"Spring Roles\"],\n",
    "  \"price\": [50, 40, 45]\n",
    "}\n",
    "\n",
    "#load data into a DataFrame object:\n",
    "r = pd.DataFrame(data, index = [\"a\",\"b\",\"c\"])"
   ]
  },
  {
   "cell_type": "code",
   "execution_count": 12,
   "id": "469e0e7d",
   "metadata": {},
   "outputs": [
    {
     "name": "stdout",
     "output_type": "stream",
     "text": [
      "       products  price\n",
      "a         Pizza     50\n",
      "b        Burger     40\n",
      "c  Spring Roles     45\n"
     ]
    }
   ],
   "source": [
    "print(r)"
   ]
  },
  {
   "cell_type": "code",
   "execution_count": null,
   "id": "7cbdb8d5",
   "metadata": {},
   "outputs": [],
   "source": []
  }
 ],
 "metadata": {
  "kernelspec": {
   "display_name": "Python 3 (ipykernel)",
   "language": "python",
   "name": "python3"
  },
  "language_info": {
   "codemirror_mode": {
    "name": "ipython",
    "version": 3
   },
   "file_extension": ".py",
   "mimetype": "text/x-python",
   "name": "python",
   "nbconvert_exporter": "python",
   "pygments_lexer": "ipython3",
   "version": "3.10.9"
  }
 },
 "nbformat": 4,
 "nbformat_minor": 5
}
