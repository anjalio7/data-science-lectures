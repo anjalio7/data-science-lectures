{
 "cells": [
  {
   "cell_type": "code",
   "execution_count": 1,
   "id": "ca99a541",
   "metadata": {},
   "outputs": [],
   "source": [
    "import numpy as np"
   ]
  },
  {
   "cell_type": "code",
   "execution_count": 27,
   "id": "f6063364",
   "metadata": {},
   "outputs": [
    {
     "data": {
      "text/plain": [
       "array([8, 9, 3])"
      ]
     },
     "execution_count": 27,
     "metadata": {},
     "output_type": "execute_result"
    }
   ],
   "source": [
    "x = np.array([1, 5, 2])\n",
    "y = np.array([7, 4, 1])\n",
    "x + y"
   ]
  },
  {
   "cell_type": "code",
   "execution_count": 29,
   "id": "22ac9402",
   "metadata": {},
   "outputs": [
    {
     "data": {
      "text/plain": [
       "array([-6,  1,  1])"
      ]
     },
     "execution_count": 29,
     "metadata": {},
     "output_type": "execute_result"
    }
   ],
   "source": [
    "x-y"
   ]
  },
  {
   "cell_type": "code",
   "execution_count": 30,
   "id": "5a5becab",
   "metadata": {},
   "outputs": [
    {
     "data": {
      "text/plain": [
       "array([ 7, 20,  2])"
      ]
     },
     "execution_count": 30,
     "metadata": {},
     "output_type": "execute_result"
    }
   ],
   "source": [
    "x*y"
   ]
  },
  {
   "cell_type": "code",
   "execution_count": 31,
   "id": "6f24147b",
   "metadata": {},
   "outputs": [
    {
     "data": {
      "text/plain": [
       "array([0.14285714, 1.25      , 2.        ])"
      ]
     },
     "execution_count": 31,
     "metadata": {},
     "output_type": "execute_result"
    }
   ],
   "source": [
    "x/y"
   ]
  },
  {
   "cell_type": "code",
   "execution_count": 2,
   "id": "5d9369e1",
   "metadata": {},
   "outputs": [],
   "source": [
    "a = np.arange(9, dtype = np.float_).reshape(3,3) "
   ]
  },
  {
   "cell_type": "code",
   "execution_count": 3,
   "id": "2748319f",
   "metadata": {},
   "outputs": [
    {
     "name": "stdout",
     "output_type": "stream",
     "text": [
      "First array:\n",
      "[[0. 1. 2.]\n",
      " [3. 4. 5.]\n",
      " [6. 7. 8.]]\n",
      "\n",
      "\n",
      "Second array:\n",
      "[10 10 10]\n"
     ]
    }
   ],
   "source": [
    "print ('First array:') \n",
    "print (a) \n",
    "print ('\\n')  \n",
    "\n",
    "print( 'Second array:') \n",
    "b = np.array([10,10,10]) \n",
    "print (b )"
   ]
  },
  {
   "cell_type": "code",
   "execution_count": 5,
   "id": "391d1acf",
   "metadata": {},
   "outputs": [
    {
     "name": "stdout",
     "output_type": "stream",
     "text": [
      "Add the two arrays:\n",
      "[[10. 11. 12.]\n",
      " [13. 14. 15.]\n",
      " [16. 17. 18.]]\n"
     ]
    }
   ],
   "source": [
    "print( 'Add the two arrays:' )\n",
    "print( np.add(a,b) )"
   ]
  },
  {
   "cell_type": "code",
   "execution_count": 6,
   "id": "1e7f7f6f",
   "metadata": {},
   "outputs": [
    {
     "name": "stdout",
     "output_type": "stream",
     "text": [
      "Subtract the two arrays:\n",
      "[[-10.  -9.  -8.]\n",
      " [ -7.  -6.  -5.]\n",
      " [ -4.  -3.  -2.]]\n"
     ]
    }
   ],
   "source": [
    "print ('Subtract the two arrays:') \n",
    "print (np.subtract(a,b) )\n",
    "  "
   ]
  },
  {
   "cell_type": "code",
   "execution_count": 7,
   "id": "45c03bdc",
   "metadata": {},
   "outputs": [
    {
     "name": "stdout",
     "output_type": "stream",
     "text": [
      "Multiply the two arrays:\n",
      "[[ 0. 10. 20.]\n",
      " [30. 40. 50.]\n",
      " [60. 70. 80.]]\n"
     ]
    }
   ],
   "source": [
    "print ('Multiply the two arrays:' )\n",
    "print (np.multiply(a,b)) "
   ]
  },
  {
   "cell_type": "code",
   "execution_count": 8,
   "id": "0081a2ae",
   "metadata": {},
   "outputs": [
    {
     "name": "stdout",
     "output_type": "stream",
     "text": [
      "Divide the two arrays:\n",
      "[[0.  0.1 0.2]\n",
      " [0.3 0.4 0.5]\n",
      " [0.6 0.7 0.8]]\n"
     ]
    }
   ],
   "source": [
    "print ('Divide the two arrays:') \n",
    "print( np.divide(a,b))"
   ]
  },
  {
   "cell_type": "markdown",
   "id": "f6c23c26",
   "metadata": {},
   "source": [
    "numpy.reciprocal()\n",
    "\n",
    "This function returns the reciprocal of argument, element-wise. For elements with absolute values larger than 1, the result is always 0 and for integer 0, overflow warning is issued. Example: "
   ]
  },
  {
   "cell_type": "code",
   "execution_count": 9,
   "id": "441810f8",
   "metadata": {},
   "outputs": [
    {
     "name": "stdout",
     "output_type": "stream",
     "text": [
      "Our array is:\n",
      "[ 25.     1.33   1.     1.   100.  ]\n"
     ]
    }
   ],
   "source": [
    "arr = np.array([25, 1.33, 1, 1, 100])\n",
    " \n",
    "print('Our array is:')\n",
    "print(arr)"
   ]
  },
  {
   "cell_type": "code",
   "execution_count": 10,
   "id": "b6a8c9e6",
   "metadata": {},
   "outputs": [
    {
     "name": "stdout",
     "output_type": "stream",
     "text": [
      "\n",
      "After applying reciprocal function:\n",
      "[0.04      0.7518797 1.        1.        0.01     ]\n"
     ]
    }
   ],
   "source": [
    "print('\\nAfter applying reciprocal function:')\n",
    "print(np.reciprocal(arr))"
   ]
  },
  {
   "cell_type": "code",
   "execution_count": 11,
   "id": "1c48c0e2",
   "metadata": {},
   "outputs": [
    {
     "name": "stdout",
     "output_type": "stream",
     "text": [
      "\n",
      "The second array is:\n",
      "[25]\n"
     ]
    }
   ],
   "source": [
    "arr2 = np.array([25], dtype = int)\n",
    "print('\\nThe second array is:')\n",
    "print(arr2)"
   ]
  },
  {
   "cell_type": "code",
   "execution_count": 12,
   "id": "1ec6fdb2",
   "metadata": {},
   "outputs": [
    {
     "name": "stdout",
     "output_type": "stream",
     "text": [
      "\n",
      "After applying reciprocal function:\n",
      "[0]\n"
     ]
    }
   ],
   "source": [
    "print('\\nAfter applying reciprocal function:')\n",
    "print(np.reciprocal(arr2))"
   ]
  },
  {
   "cell_type": "markdown",
   "id": "bac22e8a",
   "metadata": {},
   "source": [
    "# numpy.power() "
   ]
  },
  {
   "cell_type": "markdown",
   "id": "b9cafb5b",
   "metadata": {},
   "source": [
    "This function treats elements in the first input array as the base and returns it raised to the power of the corresponding element in the second input array. "
   ]
  },
  {
   "cell_type": "code",
   "execution_count": 13,
   "id": "82f84f8d",
   "metadata": {},
   "outputs": [
    {
     "name": "stdout",
     "output_type": "stream",
     "text": [
      "First array is:\n",
      "[ 5 10 15]\n"
     ]
    }
   ],
   "source": [
    " \n",
    "arr = np.array([5, 10, 15])\n",
    " \n",
    "print('First array is:')\n",
    "print(arr)\n",
    " \n"
   ]
  },
  {
   "cell_type": "code",
   "execution_count": 14,
   "id": "39cbe31e",
   "metadata": {},
   "outputs": [
    {
     "name": "stdout",
     "output_type": "stream",
     "text": [
      "\n",
      "Applying power function:\n",
      "[ 25 100 225]\n"
     ]
    }
   ],
   "source": [
    "print('\\nApplying power function:')\n",
    "print(np.power(arr, 2))\n",
    " \n"
   ]
  },
  {
   "cell_type": "code",
   "execution_count": 15,
   "id": "2e5c4327",
   "metadata": {},
   "outputs": [
    {
     "name": "stdout",
     "output_type": "stream",
     "text": [
      "\n",
      "Second array is:\n",
      "[1 2 3]\n"
     ]
    }
   ],
   "source": [
    "print('\\nSecond array is:')\n",
    "arr1 = np.array([1, 2, 3])\n",
    "print(arr1)\n",
    " \n"
   ]
  },
  {
   "cell_type": "code",
   "execution_count": 17,
   "id": "dc96d749",
   "metadata": {},
   "outputs": [
    {
     "name": "stdout",
     "output_type": "stream",
     "text": [
      "\n",
      "Applying power function again:\n",
      "[   5  100 3375]\n"
     ]
    }
   ],
   "source": [
    "print('\\nApplying power function again:')\n",
    "print(np.power(arr, arr1))"
   ]
  },
  {
   "cell_type": "markdown",
   "id": "534926fd",
   "metadata": {},
   "source": [
    "# numpy.mod()"
   ]
  },
  {
   "cell_type": "markdown",
   "id": "9e0774ca",
   "metadata": {},
   "source": [
    "This function returns the remainder of division of the corresponding elements in the input array. The function numpy.remainder() also produces the same result. "
   ]
  },
  {
   "cell_type": "code",
   "execution_count": 19,
   "id": "fa29c369",
   "metadata": {},
   "outputs": [
    {
     "name": "stdout",
     "output_type": "stream",
     "text": [
      "First array:\n",
      "[ 5 15 20]\n"
     ]
    }
   ],
   "source": [
    "arr = np.array([5, 15, 20])\n",
    "arr1 = np.array([2, 5, 9])\n",
    " \n",
    "print('First array:')\n",
    "print(arr)\n",
    " \n"
   ]
  },
  {
   "cell_type": "code",
   "execution_count": 20,
   "id": "b1e40a5b",
   "metadata": {},
   "outputs": [
    {
     "name": "stdout",
     "output_type": "stream",
     "text": [
      "\n",
      "Second array:\n",
      "[2 5 9]\n"
     ]
    }
   ],
   "source": [
    "print('\\nSecond array:')\n",
    "print(arr1)\n"
   ]
  },
  {
   "cell_type": "code",
   "execution_count": 21,
   "id": "73a08161",
   "metadata": {},
   "outputs": [
    {
     "name": "stdout",
     "output_type": "stream",
     "text": [
      "\n",
      "Applying mod() function:\n",
      "[1 0 2]\n"
     ]
    }
   ],
   "source": [
    "print('\\nApplying mod() function:')\n",
    "print(np.mod(arr, arr1))\n",
    " \n"
   ]
  },
  {
   "cell_type": "code",
   "execution_count": 22,
   "id": "7eaf3f2e",
   "metadata": {},
   "outputs": [
    {
     "name": "stdout",
     "output_type": "stream",
     "text": [
      "\n",
      "Applying remainder() function:\n",
      "[1 0 2]\n"
     ]
    }
   ],
   "source": [
    "print('\\nApplying remainder() function:')\n",
    "print(np.remainder(arr, arr1))"
   ]
  },
  {
   "cell_type": "markdown",
   "id": "b8f708bd",
   "metadata": {},
   "source": [
    "# max()"
   ]
  },
  {
   "cell_type": "code",
   "execution_count": 23,
   "id": "4e6bd3c2",
   "metadata": {},
   "outputs": [
    {
     "name": "stdout",
     "output_type": "stream",
     "text": [
      "50\n"
     ]
    }
   ],
   "source": [
    "a = np.array([10,20,30,40,50])\n",
    "  \n",
    "# find the maximum element in the array\n",
    "b = np.max(a)\n",
    "print(b)"
   ]
  },
  {
   "cell_type": "markdown",
   "id": "6955d744",
   "metadata": {},
   "source": [
    "# min()"
   ]
  },
  {
   "cell_type": "code",
   "execution_count": 24,
   "id": "53c276fd",
   "metadata": {},
   "outputs": [
    {
     "name": "stdout",
     "output_type": "stream",
     "text": [
      "10\n"
     ]
    }
   ],
   "source": [
    "a=np.array([10,20,30,40,50])\n",
    "  \n",
    "# find the minimum element in the array\n",
    "b=np.min(a)\n",
    "print(b)"
   ]
  },
  {
   "cell_type": "markdown",
   "id": "34f83f54",
   "metadata": {},
   "source": [
    "# sum()"
   ]
  },
  {
   "cell_type": "markdown",
   "id": "d26ca8cb",
   "metadata": {},
   "source": [
    "This function is used to return the sum of all elements of an array over specified axis. It is possible to add rows and column elements of an array."
   ]
  },
  {
   "cell_type": "code",
   "execution_count": 25,
   "id": "4bd66cf1",
   "metadata": {},
   "outputs": [
    {
     "name": "stdout",
     "output_type": "stream",
     "text": [
      "15\n"
     ]
    }
   ],
   "source": [
    "a=np.array([1,2,3,4,5])\n",
    "b=np.sum(a)\n",
    "print(b)"
   ]
  },
  {
   "cell_type": "markdown",
   "id": "0b605d98",
   "metadata": {},
   "source": [
    "# Matrices"
   ]
  },
  {
   "cell_type": "code",
   "execution_count": 26,
   "id": "c674af81",
   "metadata": {},
   "outputs": [
    {
     "data": {
      "text/plain": [
       "matrix([[1, 2],\n",
       "        [3, 4]])"
      ]
     },
     "execution_count": 26,
     "metadata": {},
     "output_type": "execute_result"
    }
   ],
   "source": [
    "a = np.matrix('1 2; 3 4')\n",
    "a"
   ]
  },
  {
   "cell_type": "code",
   "execution_count": 32,
   "id": "badc82d8",
   "metadata": {},
   "outputs": [
    {
     "data": {
      "text/plain": [
       "matrix([[ 0,  1,  2,  3],\n",
       "        [ 4,  5,  6,  7],\n",
       "        [ 8,  9, 10, 11]])"
      ]
     },
     "execution_count": 32,
     "metadata": {},
     "output_type": "execute_result"
    }
   ],
   "source": [
    "x = np.matrix(np.arange(12).reshape((3,4)));\n",
    "x"
   ]
  },
  {
   "cell_type": "code",
   "execution_count": 34,
   "id": "29c787d3",
   "metadata": {},
   "outputs": [
    {
     "data": {
      "text/plain": [
       "matrix([[ 8,  9, 10, 11]])"
      ]
     },
     "execution_count": 34,
     "metadata": {},
     "output_type": "execute_result"
    }
   ],
   "source": [
    "y = x[2]; y"
   ]
  },
  {
   "cell_type": "code",
   "execution_count": 41,
   "id": "959761d0",
   "metadata": {},
   "outputs": [
    {
     "data": {
      "text/plain": [
       "matrix([[False, False, False, False],\n",
       "        [False, False, False, False],\n",
       "        [ True,  True,  True,  True]])"
      ]
     },
     "execution_count": 41,
     "metadata": {},
     "output_type": "execute_result"
    }
   ],
   "source": [
    "(x == y)"
   ]
  },
  {
   "cell_type": "code",
   "execution_count": 42,
   "id": "bb5f8fe3",
   "metadata": {},
   "outputs": [
    {
     "data": {
      "text/plain": [
       "False"
      ]
     },
     "execution_count": 42,
     "metadata": {},
     "output_type": "execute_result"
    }
   ],
   "source": [
    "(x == y).all()"
   ]
  },
  {
   "cell_type": "code",
   "execution_count": 43,
   "id": "64ac275d",
   "metadata": {},
   "outputs": [
    {
     "data": {
      "text/plain": [
       "matrix([[False, False, False, False]])"
      ]
     },
     "execution_count": 43,
     "metadata": {},
     "output_type": "execute_result"
    }
   ],
   "source": [
    "(x == y).all(0)"
   ]
  },
  {
   "cell_type": "code",
   "execution_count": 44,
   "id": "490c03ed",
   "metadata": {},
   "outputs": [
    {
     "data": {
      "text/plain": [
       "matrix([[False],\n",
       "        [False],\n",
       "        [ True]])"
      ]
     },
     "execution_count": 44,
     "metadata": {},
     "output_type": "execute_result"
    }
   ],
   "source": [
    "(x == y).all(1)"
   ]
  },
  {
   "cell_type": "markdown",
   "id": "95860712",
   "metadata": {},
   "source": [
    "Convert matrix into list"
   ]
  },
  {
   "cell_type": "markdown",
   "id": "df60af15",
   "metadata": {},
   "source": [
    "Syntax: matrix.tolist()\n",
    "Return : Return a new list"
   ]
  },
  {
   "cell_type": "code",
   "execution_count": 107,
   "id": "d0218b56",
   "metadata": {},
   "outputs": [
    {
     "name": "stdout",
     "output_type": "stream",
     "text": [
      "[[4, 1, 12, 3]]\n"
     ]
    }
   ],
   "source": [
    "# make matrix with numpy\n",
    "mat = np.matrix('[4, 1, 12, 3]')\n",
    "              \n",
    "# applying matrix.tolist() method\n",
    "m = mat.tolist()\n",
    "    \n",
    "print(m)"
   ]
  },
  {
   "cell_type": "markdown",
   "id": "736cdb7f",
   "metadata": {},
   "source": [
    "# Transpose of matrix (numpy.matrix.T)"
   ]
  },
  {
   "cell_type": "code",
   "execution_count": 45,
   "id": "6c8aa0b1",
   "metadata": {},
   "outputs": [
    {
     "data": {
      "text/plain": [
       "matrix([[1, 2],\n",
       "        [3, 4]])"
      ]
     },
     "execution_count": 45,
     "metadata": {},
     "output_type": "execute_result"
    }
   ],
   "source": [
    "m = np.matrix('[1, 2; 3, 4]')\n",
    "m"
   ]
  },
  {
   "cell_type": "code",
   "execution_count": 46,
   "id": "6759078e",
   "metadata": {},
   "outputs": [
    {
     "data": {
      "text/plain": [
       "matrix([[1, 3],\n",
       "        [2, 4]])"
      ]
     },
     "execution_count": 46,
     "metadata": {},
     "output_type": "execute_result"
    }
   ],
   "source": [
    "m.getT()"
   ]
  },
  {
   "cell_type": "code",
   "execution_count": 48,
   "id": "42f96c05",
   "metadata": {},
   "outputs": [
    {
     "data": {
      "text/plain": [
       "matrix([[1, 3],\n",
       "        [2, 4]])"
      ]
     },
     "execution_count": 48,
     "metadata": {},
     "output_type": "execute_result"
    }
   ],
   "source": [
    "np.transpose(m)"
   ]
  },
  {
   "cell_type": "code",
   "execution_count": 50,
   "id": "94d64197",
   "metadata": {},
   "outputs": [
    {
     "data": {
      "text/plain": [
       "array([1, 2, 3, 4])"
      ]
     },
     "execution_count": 50,
     "metadata": {},
     "output_type": "execute_result"
    }
   ],
   "source": [
    "a = np.array([1, 2, 3, 4])\n",
    "a\n"
   ]
  },
  {
   "cell_type": "code",
   "execution_count": 51,
   "id": "b49e4599",
   "metadata": {},
   "outputs": [
    {
     "data": {
      "text/plain": [
       "array([1, 2, 3, 4])"
      ]
     },
     "execution_count": 51,
     "metadata": {},
     "output_type": "execute_result"
    }
   ],
   "source": [
    "np.transpose(a)"
   ]
  },
  {
   "cell_type": "code",
   "execution_count": 52,
   "id": "d1f32f40",
   "metadata": {},
   "outputs": [
    {
     "data": {
      "text/plain": [
       "(2, 1, 3)"
      ]
     },
     "execution_count": 52,
     "metadata": {},
     "output_type": "execute_result"
    }
   ],
   "source": [
    "a = np.ones((1, 2, 3))\n",
    "np.transpose(a, (1, 0, 2)).shape"
   ]
  },
  {
   "cell_type": "code",
   "execution_count": 59,
   "id": "2b89594d",
   "metadata": {},
   "outputs": [
    {
     "data": {
      "text/plain": [
       "(5, 4, 3, 2)"
      ]
     },
     "execution_count": 59,
     "metadata": {},
     "output_type": "execute_result"
    }
   ],
   "source": [
    "a = np.ones((2, 3, 4, 5))\n",
    "np.transpose(a).shape"
   ]
  },
  {
   "cell_type": "code",
   "execution_count": 61,
   "id": "6e08fd43",
   "metadata": {},
   "outputs": [
    {
     "data": {
      "text/plain": [
       "array([[1, 4],\n",
       "       [2, 5],\n",
       "       [3, 6]])"
      ]
     },
     "execution_count": 61,
     "metadata": {},
     "output_type": "execute_result"
    }
   ],
   "source": [
    "arr1 = [[1, 2, 3], [4, 5, 6]]\n",
    "\n",
    "arr1_transpose = np.transpose(arr1)\n",
    "arr1_transpose"
   ]
  },
  {
   "cell_type": "markdown",
   "id": "2343e5e4",
   "metadata": {},
   "source": [
    "# Generate random number"
   ]
  },
  {
   "cell_type": "markdown",
   "id": "e1bc382a",
   "metadata": {},
   "source": [
    "Syntax :\n",
    "\n",
    "random.randint(low, high=None, size=None, dtype=int)"
   ]
  },
  {
   "cell_type": "code",
   "execution_count": 62,
   "id": "3f67abf9",
   "metadata": {},
   "outputs": [
    {
     "data": {
      "text/plain": [
       "array([[0.39805701, 0.7396424 ],\n",
       "       [0.92589024, 0.27011706],\n",
       "       [0.81209714, 0.06261954]])"
      ]
     },
     "execution_count": 62,
     "metadata": {},
     "output_type": "execute_result"
    }
   ],
   "source": [
    "np.random.rand(3,2)"
   ]
  },
  {
   "cell_type": "code",
   "execution_count": 65,
   "id": "219e12f9",
   "metadata": {},
   "outputs": [
    {
     "data": {
      "text/plain": [
       "array([0, 0, 0, 0, 0, 0, 1, 1, 1, 0])"
      ]
     },
     "execution_count": 65,
     "metadata": {},
     "output_type": "execute_result"
    }
   ],
   "source": [
    "np.random.randint(2, size=10)"
   ]
  },
  {
   "cell_type": "code",
   "execution_count": 66,
   "id": "618fed37",
   "metadata": {},
   "outputs": [
    {
     "data": {
      "text/plain": [
       "array([0, 0, 0, 0, 0, 0, 0, 0, 0, 0])"
      ]
     },
     "execution_count": 66,
     "metadata": {},
     "output_type": "execute_result"
    }
   ],
   "source": [
    "np.random.randint(1, size=10)"
   ]
  },
  {
   "cell_type": "code",
   "execution_count": 67,
   "id": "eff7e4a6",
   "metadata": {},
   "outputs": [
    {
     "data": {
      "text/plain": [
       "array([[4, 3, 0, 3],\n",
       "       [4, 1, 1, 2]])"
      ]
     },
     "execution_count": 67,
     "metadata": {},
     "output_type": "execute_result"
    }
   ],
   "source": [
    "# Generate a 2 x 4 array of ints between 0 and 4, inclusive:\n",
    "np.random.randint(5, size=(2, 4))"
   ]
  },
  {
   "cell_type": "code",
   "execution_count": 68,
   "id": "a1083396",
   "metadata": {},
   "outputs": [
    {
     "data": {
      "text/plain": [
       "array([2, 2, 9])"
      ]
     },
     "execution_count": 68,
     "metadata": {},
     "output_type": "execute_result"
    }
   ],
   "source": [
    "# Generate a 1 x 3 array with 3 different upper bounds\n",
    "np.random.randint(1, [3, 5, 10])"
   ]
  },
  {
   "cell_type": "code",
   "execution_count": 69,
   "id": "3d86fc71",
   "metadata": {},
   "outputs": [
    {
     "data": {
      "text/plain": [
       "array([9, 9, 9])"
      ]
     },
     "execution_count": 69,
     "metadata": {},
     "output_type": "execute_result"
    }
   ],
   "source": [
    "# Generate a 1 by 3 array with 3 different lower bounds\n",
    "np.random.randint([1, 5, 7], 10)"
   ]
  },
  {
   "cell_type": "markdown",
   "id": "8853996c",
   "metadata": {},
   "source": [
    "numpy.random.randn\n",
    "\n",
    "random.randn(d0, d1, ..., dn)\n",
    "\n",
    "Return a sample (or samples) from the “standard normal” distribution."
   ]
  },
  {
   "cell_type": "code",
   "execution_count": 70,
   "id": "df29e633",
   "metadata": {},
   "outputs": [
    {
     "data": {
      "text/plain": [
       "0.20074266273953198"
      ]
     },
     "execution_count": 70,
     "metadata": {},
     "output_type": "execute_result"
    }
   ],
   "source": [
    "np.random.randn()"
   ]
  },
  {
   "cell_type": "code",
   "execution_count": 71,
   "id": "4c1c2bee",
   "metadata": {},
   "outputs": [
    {
     "data": {
      "text/plain": [
       "array([[ 5.42452629,  5.2260377 ,  5.0039538 ,  7.00871916],\n",
       "       [ 4.0783687 , -0.28167103,  4.77659881, -2.51240896]])"
      ]
     },
     "execution_count": 71,
     "metadata": {},
     "output_type": "execute_result"
    }
   ],
   "source": [
    "# Two-by-four array of samples from the normal distribution with mean 3 and standard deviation 2.5:\n",
    "\n",
    "3 + 2.5 * np.random.randn(2, 4)"
   ]
  },
  {
   "cell_type": "markdown",
   "id": "c88a0d2e",
   "metadata": {},
   "source": [
    "# numpy.random.random"
   ]
  },
  {
   "cell_type": "markdown",
   "id": "f89acf45",
   "metadata": {},
   "source": [
    "random.random(size=None)\n",
    "Return random floats in the half-open interval [0.0, 1.0). Alias for random_sample to ease forward-porting to the new random AP"
   ]
  },
  {
   "cell_type": "code",
   "execution_count": 73,
   "id": "6c2fdcd0",
   "metadata": {},
   "outputs": [
    {
     "data": {
      "text/plain": [
       "0.3991851744971916"
      ]
     },
     "execution_count": 73,
     "metadata": {},
     "output_type": "execute_result"
    }
   ],
   "source": [
    "np.random.random()"
   ]
  },
  {
   "cell_type": "code",
   "execution_count": 74,
   "id": "d4e68713",
   "metadata": {},
   "outputs": [
    {
     "name": "stdout",
     "output_type": "stream",
     "text": [
      "8\n"
     ]
    }
   ],
   "source": [
    "# Using numpy random randint() to generate a random number\n",
    "random_number = np.random.randint(12)\n",
    "\n",
    "print(random_number)"
   ]
  },
  {
   "cell_type": "code",
   "execution_count": 75,
   "id": "720f1790",
   "metadata": {},
   "outputs": [
    {
     "name": "stdout",
     "output_type": "stream",
     "text": [
      "True\n",
      "True\n"
     ]
    }
   ],
   "source": [
    "# Using numpy random uniform to create random samples\n",
    "sample = np.random.uniform(-1,0,1000)\n",
    "# Uniform Distribution check\n",
    "print(np.all(sample >= -1))\n",
    "print(np.all(sample < 0))"
   ]
  },
  {
   "cell_type": "code",
   "execution_count": 76,
   "id": "34c5f081",
   "metadata": {},
   "outputs": [
    {
     "name": "stdout",
     "output_type": "stream",
     "text": [
      "0.9540513514879408\n"
     ]
    }
   ],
   "source": [
    "\n",
    "# Using random.rand() to generate a random float\n",
    "random_float = np.random.rand()\n",
    "\n",
    "print(random_float)"
   ]
  },
  {
   "cell_type": "code",
   "execution_count": 77,
   "id": "ba409109",
   "metadata": {},
   "outputs": [
    {
     "name": "stdout",
     "output_type": "stream",
     "text": [
      "[13  5  8 19]\n"
     ]
    }
   ],
   "source": [
    "# Using random.randint() to generate random array\n",
    "arr=np.random.randint(20, size=(4))\n",
    "\n",
    "print(arr)"
   ]
  },
  {
   "cell_type": "code",
   "execution_count": 78,
   "id": "b6e8b5bf",
   "metadata": {},
   "outputs": [
    {
     "name": "stdout",
     "output_type": "stream",
     "text": [
      "[0.58288599 0.22420228 0.61516864 0.36718532]\n"
     ]
    }
   ],
   "source": [
    "# Using random.rand() to generate random array of float values\n",
    "arr=np.random.rand(4)\n",
    "\n",
    "print(arr)"
   ]
  },
  {
   "cell_type": "code",
   "execution_count": 80,
   "id": "a56ebe77",
   "metadata": {},
   "outputs": [
    {
     "name": "stdout",
     "output_type": "stream",
     "text": [
      "1\n"
     ]
    }
   ],
   "source": [
    "\n",
    "# Using numpy random choice() from numpy.random() module to get a random choice from an array\n",
    "random_choice = np.random.choice([1, 2, 4, 5])\n",
    "\n",
    "print(random_choice)"
   ]
  },
  {
   "cell_type": "markdown",
   "id": "13571046",
   "metadata": {},
   "source": [
    "# numpy.unique"
   ]
  },
  {
   "cell_type": "code",
   "execution_count": 81,
   "id": "4099583a",
   "metadata": {},
   "outputs": [
    {
     "data": {
      "text/plain": [
       "array([1, 2, 3])"
      ]
     },
     "execution_count": 81,
     "metadata": {},
     "output_type": "execute_result"
    }
   ],
   "source": [
    "np.unique([1, 1, 2, 2, 3, 3])"
   ]
  },
  {
   "cell_type": "code",
   "execution_count": 84,
   "id": "575a93f8",
   "metadata": {},
   "outputs": [
    {
     "data": {
      "text/plain": [
       "array([1, 2, 3])"
      ]
     },
     "execution_count": 84,
     "metadata": {},
     "output_type": "execute_result"
    }
   ],
   "source": [
    "a = np.array([[1, 1], [2, 3]])\n",
    "np.unique(a)"
   ]
  },
  {
   "cell_type": "code",
   "execution_count": 87,
   "id": "ff18d1b9",
   "metadata": {},
   "outputs": [
    {
     "data": {
      "text/plain": [
       "array([[1, 0, 0],\n",
       "       [2, 3, 4]])"
      ]
     },
     "execution_count": 87,
     "metadata": {},
     "output_type": "execute_result"
    }
   ],
   "source": [
    "# Return the unique rows of a 2D array\n",
    "\n",
    "a = np.array([[1, 0, 0], [1, 0, 0], [2, 3, 4]])\n",
    "np.unique(a, axis=0)"
   ]
  },
  {
   "cell_type": "code",
   "execution_count": 88,
   "id": "da116ecd",
   "metadata": {},
   "outputs": [],
   "source": [
    "# Return the indices of the original array that give the unique values:"
   ]
  },
  {
   "cell_type": "code",
   "execution_count": 89,
   "id": "9737e74f",
   "metadata": {},
   "outputs": [
    {
     "data": {
      "text/plain": [
       "array(['a', 'b', 'c'], dtype='<U1')"
      ]
     },
     "execution_count": 89,
     "metadata": {},
     "output_type": "execute_result"
    }
   ],
   "source": [
    "a = np.array(['a', 'b', 'b', 'c', 'a'])\n",
    "u, indices = np.unique(a, return_index=True)\n",
    "u"
   ]
  },
  {
   "cell_type": "code",
   "execution_count": 90,
   "id": "4db6ccab",
   "metadata": {},
   "outputs": [
    {
     "data": {
      "text/plain": [
       "array([0, 1, 3], dtype=int64)"
      ]
     },
     "execution_count": 90,
     "metadata": {},
     "output_type": "execute_result"
    }
   ],
   "source": [
    "indices"
   ]
  },
  {
   "cell_type": "code",
   "execution_count": 91,
   "id": "62851cb3",
   "metadata": {},
   "outputs": [
    {
     "data": {
      "text/plain": [
       "array(['a', 'b', 'c'], dtype='<U1')"
      ]
     },
     "execution_count": 91,
     "metadata": {},
     "output_type": "execute_result"
    }
   ],
   "source": [
    "a[indices]"
   ]
  },
  {
   "cell_type": "code",
   "execution_count": 93,
   "id": "345f9b8e",
   "metadata": {},
   "outputs": [
    {
     "data": {
      "text/plain": [
       "array([1, 2, 3, 4, 6])"
      ]
     },
     "execution_count": 93,
     "metadata": {},
     "output_type": "execute_result"
    }
   ],
   "source": [
    "# Reconstruct the input array from the unique values and inverse:\n",
    "a = np.array([1, 2, 6, 4, 2, 3, 2])\n",
    "u, indices = np.unique(a, return_inverse=True)\n",
    "u\n"
   ]
  },
  {
   "cell_type": "code",
   "execution_count": 94,
   "id": "856eca84",
   "metadata": {},
   "outputs": [
    {
     "data": {
      "text/plain": [
       "array([0, 1, 4, 3, 1, 2, 1], dtype=int64)"
      ]
     },
     "execution_count": 94,
     "metadata": {},
     "output_type": "execute_result"
    }
   ],
   "source": [
    "indices"
   ]
  },
  {
   "cell_type": "code",
   "execution_count": 95,
   "id": "155ca2a5",
   "metadata": {},
   "outputs": [
    {
     "data": {
      "text/plain": [
       "array([1, 2, 6, 4, 2, 3, 2])"
      ]
     },
     "execution_count": 95,
     "metadata": {},
     "output_type": "execute_result"
    }
   ],
   "source": [
    "u[indices]"
   ]
  },
  {
   "cell_type": "code",
   "execution_count": 96,
   "id": "38a62029",
   "metadata": {},
   "outputs": [
    {
     "data": {
      "text/plain": [
       "array([1, 2, 3, 4, 6])"
      ]
     },
     "execution_count": 96,
     "metadata": {},
     "output_type": "execute_result"
    }
   ],
   "source": [
    "# Reconstruct the input values from the unique values and counts:\n",
    "a = np.array([1, 2, 6, 4, 2, 3, 2])\n",
    "values, counts = np.unique(a, return_counts=True)\n",
    "values"
   ]
  },
  {
   "cell_type": "code",
   "execution_count": 97,
   "id": "7e028ccf",
   "metadata": {},
   "outputs": [
    {
     "data": {
      "text/plain": [
       "array([1, 3, 1, 1, 1], dtype=int64)"
      ]
     },
     "execution_count": 97,
     "metadata": {},
     "output_type": "execute_result"
    }
   ],
   "source": [
    "counts"
   ]
  },
  {
   "cell_type": "code",
   "execution_count": 98,
   "id": "0909a4a1",
   "metadata": {},
   "outputs": [
    {
     "data": {
      "text/plain": [
       "array([1, 2, 2, 2, 3, 4, 6])"
      ]
     },
     "execution_count": 98,
     "metadata": {},
     "output_type": "execute_result"
    }
   ],
   "source": [
    "np.repeat(values, counts)"
   ]
  },
  {
   "cell_type": "code",
   "execution_count": 101,
   "id": "ad039762",
   "metadata": {},
   "outputs": [
    {
     "name": "stdout",
     "output_type": "stream",
     "text": [
      "[[1 3]\n",
      " [2 1]\n",
      " [3 1]\n",
      " [4 3]]\n"
     ]
    }
   ],
   "source": [
    "array = np.array([1,1,1,2,3,4,4,4])\n",
    "\n",
    "unique, counts = np.unique(array, return_counts=True)\n",
    "\n",
    "result = np.column_stack((unique, counts)) \n",
    "print (result)"
   ]
  },
  {
   "cell_type": "markdown",
   "id": "469b92da",
   "metadata": {},
   "source": [
    "# Count()"
   ]
  },
  {
   "cell_type": "markdown",
   "id": "d771e8d1",
   "metadata": {},
   "source": [
    "The numpy.core.defchararray.count() function returns an array with the number of non-overlapping occurrences of substring sub in the range [start, end]."
   ]
  },
  {
   "cell_type": "code",
   "execution_count": 102,
   "id": "e1c2f1a9",
   "metadata": {},
   "outputs": [
    {
     "data": {
      "text/plain": [
       "array(['aAaAaA', '  aA  ', 'abBABba'], dtype='<U7')"
      ]
     },
     "execution_count": 102,
     "metadata": {},
     "output_type": "execute_result"
    }
   ],
   "source": [
    "c = np.array(['aAaAaA', '  aA  ', 'abBABba'])\n",
    "c"
   ]
  },
  {
   "cell_type": "code",
   "execution_count": 103,
   "id": "d5f6b905",
   "metadata": {},
   "outputs": [
    {
     "data": {
      "text/plain": [
       "array([3, 1, 1])"
      ]
     },
     "execution_count": 103,
     "metadata": {},
     "output_type": "execute_result"
    }
   ],
   "source": [
    "np.char.count(c, 'A')"
   ]
  },
  {
   "cell_type": "code",
   "execution_count": 104,
   "id": "77ceee2e",
   "metadata": {},
   "outputs": [
    {
     "data": {
      "text/plain": [
       "array([3, 1, 0])"
      ]
     },
     "execution_count": 104,
     "metadata": {},
     "output_type": "execute_result"
    }
   ],
   "source": [
    "np.char.count(c, 'aA')"
   ]
  },
  {
   "cell_type": "code",
   "execution_count": 105,
   "id": "382c98ce",
   "metadata": {},
   "outputs": [
    {
     "data": {
      "text/plain": [
       "array([2, 1, 1])"
      ]
     },
     "execution_count": 105,
     "metadata": {},
     "output_type": "execute_result"
    }
   ],
   "source": [
    " np.char.count(c, 'A', start=1, end=4)"
   ]
  },
  {
   "cell_type": "code",
   "execution_count": 106,
   "id": "914e35c4",
   "metadata": {},
   "outputs": [
    {
     "data": {
      "text/plain": [
       "array([0, 0, 1])"
      ]
     },
     "execution_count": 106,
     "metadata": {},
     "output_type": "execute_result"
    }
   ],
   "source": [
    "np.char.count(c, 'b', start=1, end=3)"
   ]
  },
  {
   "cell_type": "code",
   "execution_count": null,
   "id": "4b85d94c",
   "metadata": {},
   "outputs": [],
   "source": []
  }
 ],
 "metadata": {
  "kernelspec": {
   "display_name": "Python 3 (ipykernel)",
   "language": "python",
   "name": "python3"
  },
  "language_info": {
   "codemirror_mode": {
    "name": "ipython",
    "version": 3
   },
   "file_extension": ".py",
   "mimetype": "text/x-python",
   "name": "python",
   "nbconvert_exporter": "python",
   "pygments_lexer": "ipython3",
   "version": "3.10.4"
  }
 },
 "nbformat": 4,
 "nbformat_minor": 5
}
