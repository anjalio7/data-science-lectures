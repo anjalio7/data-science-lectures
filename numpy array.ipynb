{
 "cells": [
  {
   "cell_type": "markdown",
   "id": "eb026607",
   "metadata": {},
   "source": [
    "# Create a NumPy ndarray Object"
   ]
  },
  {
   "cell_type": "markdown",
   "id": "d480c5c2",
   "metadata": {},
   "source": [
    "NumPy is used to work with arrays. The array object in NumPy is called ndarray.\n",
    "\n",
    "We can create a NumPy ndarray object by using the array() function."
   ]
  },
  {
   "cell_type": "code",
   "execution_count": 1,
   "id": "42e77d36",
   "metadata": {},
   "outputs": [
    {
     "name": "stdout",
     "output_type": "stream",
     "text": [
      "[1 2 3 4 5]\n"
     ]
    }
   ],
   "source": [
    "import numpy as np\n",
    "\n",
    "arr = np.array([1, 2, 3, 4, 5])\n",
    "\n",
    "print(arr)\n",
    "\n"
   ]
  },
  {
   "cell_type": "code",
   "execution_count": 2,
   "id": "2a6e6745",
   "metadata": {},
   "outputs": [
    {
     "name": "stdout",
     "output_type": "stream",
     "text": [
      "<class 'numpy.ndarray'>\n"
     ]
    }
   ],
   "source": [
    "print(type(arr))"
   ]
  },
  {
   "cell_type": "markdown",
   "id": "e57b4cff",
   "metadata": {},
   "source": [
    "To create an ndarray, we can pass a list, tuple or any array-like object into the array() method, and it will be converted into an ndarray:\n",
    "\n",
    "Use a tuple to create a NumPy array:"
   ]
  },
  {
   "cell_type": "code",
   "execution_count": 8,
   "id": "89e3955f",
   "metadata": {},
   "outputs": [
    {
     "name": "stdout",
     "output_type": "stream",
     "text": [
      "[1 2 3 4 5]\n"
     ]
    }
   ],
   "source": [
    "\n",
    "\n",
    "arr = np.array((1, 2, 3, 4, 5))\n",
    "\n",
    "print(arr)"
   ]
  },
  {
   "cell_type": "markdown",
   "id": "17426f9a",
   "metadata": {},
   "source": [
    "# Dimensions in Arrays"
   ]
  },
  {
   "cell_type": "markdown",
   "id": "4462925b",
   "metadata": {},
   "source": [
    "0-D Arrays\n",
    "\n",
    "\n",
    "0-D arrays, or Scalars, are the elements in an array. Each value in an array is a 0-D array."
   ]
  },
  {
   "cell_type": "code",
   "execution_count": 9,
   "id": "cd410664",
   "metadata": {},
   "outputs": [
    {
     "name": "stdout",
     "output_type": "stream",
     "text": [
      "42\n"
     ]
    }
   ],
   "source": [
    "\n",
    "arr = np.array(42)\n",
    "\n",
    "print(arr)\n"
   ]
  },
  {
   "cell_type": "markdown",
   "id": "93b21a8a",
   "metadata": {},
   "source": [
    "1-D Arrays\n",
    "\n",
    "\n",
    "An array that has 0-D arrays as its elements is called uni-dimensional or 1-D array.\n",
    "\n",
    "These are the most common and basic arrays."
   ]
  },
  {
   "cell_type": "code",
   "execution_count": 10,
   "id": "bd95ac98",
   "metadata": {},
   "outputs": [
    {
     "name": "stdout",
     "output_type": "stream",
     "text": [
      "[1 2 3 4 5]\n"
     ]
    }
   ],
   "source": [
    "\n",
    "\n",
    "arr = np.array([1, 2, 3, 4, 5])\n",
    "\n",
    "print(arr)"
   ]
  },
  {
   "cell_type": "markdown",
   "id": "056dc37b",
   "metadata": {},
   "source": [
    "2-D Arrays\n",
    "\n",
    "An array that has 1-D arrays as its elements is called a 2-D array.\n",
    "\n",
    "These are often used to represent matrix or 2nd order tensors."
   ]
  },
  {
   "cell_type": "code",
   "execution_count": 12,
   "id": "0f523eda",
   "metadata": {},
   "outputs": [
    {
     "name": "stdout",
     "output_type": "stream",
     "text": [
      "[[1 2 3]\n",
      " [4 5 6]]\n"
     ]
    }
   ],
   "source": [
    "arr = np.array([[1, 2, 3], [4, 5, 6]])\n",
    "\n",
    "print(arr)"
   ]
  },
  {
   "cell_type": "markdown",
   "id": "4c924c55",
   "metadata": {},
   "source": [
    "3-D arrays\n",
    "\n",
    "\n",
    "An array that has 2-D arrays (matrices) as its elements is called 3-D array.\n",
    "\n",
    "These are often used to represent a 3rd order tensor."
   ]
  },
  {
   "cell_type": "code",
   "execution_count": 14,
   "id": "7002a579",
   "metadata": {},
   "outputs": [
    {
     "name": "stdout",
     "output_type": "stream",
     "text": [
      "[[[1 2 3]\n",
      "  [4 5 6]]\n",
      "\n",
      " [[1 2 3]\n",
      "  [4 5 6]]]\n"
     ]
    }
   ],
   "source": [
    "arr = np.array([[[1, 2, 3], [4, 5, 6]], [[1, 2, 3], [4, 5, 6]]])\n",
    "\n",
    "print(arr)"
   ]
  },
  {
   "cell_type": "markdown",
   "id": "9db82d7c",
   "metadata": {},
   "source": [
    "Check Number of Dimensions?\n",
    "\n",
    "NumPy Arrays provides the ndim attribute that returns an integer that tells us how many dimensions the array have."
   ]
  },
  {
   "cell_type": "code",
   "execution_count": 15,
   "id": "7733db0f",
   "metadata": {},
   "outputs": [
    {
     "name": "stdout",
     "output_type": "stream",
     "text": [
      "0\n",
      "1\n",
      "2\n",
      "3\n"
     ]
    }
   ],
   "source": [
    "a = np.array(42)\n",
    "b = np.array([1, 2, 3, 4, 5])\n",
    "c = np.array([[1, 2, 3], [4, 5, 6]])\n",
    "d = np.array([[[1, 2, 3], [4, 5, 6]], [[1, 2, 3], [4, 5, 6]]])\n",
    "\n",
    "print(a.ndim)\n",
    "print(b.ndim)\n",
    "print(c.ndim)\n",
    "print(d.ndim)"
   ]
  },
  {
   "cell_type": "markdown",
   "id": "881f6cdf",
   "metadata": {},
   "source": [
    "Higher Dimensional Arrays\n",
    "\n",
    "An array can have any number of dimensions.\n",
    "\n",
    "When the array is created, you can define the number of dimensions by using the ndmin argument."
   ]
  },
  {
   "cell_type": "code",
   "execution_count": 16,
   "id": "e1781f11",
   "metadata": {},
   "outputs": [
    {
     "name": "stdout",
     "output_type": "stream",
     "text": [
      "[[[[[1 2 3 4]]]]]\n",
      "number of dimensions : 5\n"
     ]
    }
   ],
   "source": [
    "arr = np.array([1, 2, 3, 4], ndmin=5)\n",
    "\n",
    "print(arr)\n",
    "print('number of dimensions :', arr.ndim)"
   ]
  },
  {
   "cell_type": "markdown",
   "id": "73bcfccc",
   "metadata": {},
   "source": [
    "# Heading filled with 0's and 1's"
   ]
  },
  {
   "cell_type": "markdown",
   "id": "b4c21180",
   "metadata": {},
   "source": [
    "numpy.zeros()\n",
    "\n",
    "Python’s Numpy module provides a function to create a numpy array of given shape & type and all values in it initialized with 0’s i.e.\n",
    "\n",
    "numpy.zeros(shape, dtype=float, order='C')\n",
    "Arguments:\n",
    "\n",
    "shape : Shape of the numpy array. Single int or sequence of int.\n",
    "dtype : (Optional) Data type of elements. Default is float64.\n",
    "order : (Optional) Order in which data is stored in multi-dimension array i.e. in row major(‘F’) or column major (‘C’). Default is ‘C’."
   ]
  },
  {
   "cell_type": "code",
   "execution_count": 17,
   "id": "8665b0b3",
   "metadata": {},
   "outputs": [
    {
     "name": "stdout",
     "output_type": "stream",
     "text": [
      "Contents of the Numpy Array :  [0. 0. 0. 0. 0.]\n"
     ]
    }
   ],
   "source": [
    "arr = np.zeros(5)\n",
    "print('Contents of the Numpy Array : ' , arr)"
   ]
  },
  {
   "cell_type": "markdown",
   "id": "f0d779c7",
   "metadata": {},
   "source": [
    "Here, in shape argument we passed 5. So, it returned a flattened numpy array of 5 zeros."
   ]
  },
  {
   "cell_type": "code",
   "execution_count": 18,
   "id": "a2ee60a5",
   "metadata": {},
   "outputs": [
    {
     "name": "stdout",
     "output_type": "stream",
     "text": [
      "Contents of the Numpy Array : \n",
      " [[0. 0. 0. 0. 0. 0.]\n",
      " [0. 0. 0. 0. 0. 0.]\n",
      " [0. 0. 0. 0. 0. 0.]\n",
      " [0. 0. 0. 0. 0. 0.]\n",
      " [0. 0. 0. 0. 0. 0.]]\n",
      "Data Type of elements in  Array :  float64\n"
     ]
    }
   ],
   "source": [
    "arr = np.zeros((5, 6))\n",
    "print('Contents of the Numpy Array : \\n', arr)\n",
    "print('Data Type of elements in  Array : ', arr.dtype)"
   ]
  },
  {
   "cell_type": "code",
   "execution_count": 19,
   "id": "0cacfa7d",
   "metadata": {},
   "outputs": [
    {
     "name": "stdout",
     "output_type": "stream",
     "text": [
      "Contents of the Numpy Array : \n",
      " [[0 0 0 0 0 0]\n",
      " [0 0 0 0 0 0]\n",
      " [0 0 0 0 0 0]\n",
      " [0 0 0 0 0 0]\n",
      " [0 0 0 0 0 0]]\n"
     ]
    }
   ],
   "source": [
    "# create a 2D numpy array with 5 rows &amp; 6 columns filled with 0's and int data type\n",
    "arr = np.zeros((5, 6) , dtype=np.int64)\n",
    "print('Contents of the Numpy Array : \\n', arr)"
   ]
  },
  {
   "cell_type": "markdown",
   "id": "46d3880f",
   "metadata": {},
   "source": [
    "numpy.ones()\n",
    "\n",
    "\n",
    "Python’s Numpy module provides a function to create a numpy array of given shape & type and all values in it initialized with 1’s i.e.\n",
    "\n",
    "numpy.ones(shape, dtype=float, order='C')\n",
    "Arguments:\n",
    "\n",
    "shape : Shape of the numpy array. Single int or sequence of int.\n",
    "dtype : (Optional) Data type of elements. Default is float64.\n",
    "order : (Optional) Order in which data is stored in multi-dimension array i.e. in row major(‘F’) or column major (‘C’). Default is ‘C’."
   ]
  },
  {
   "cell_type": "code",
   "execution_count": 20,
   "id": "3f7ce5a8",
   "metadata": {},
   "outputs": [
    {
     "name": "stdout",
     "output_type": "stream",
     "text": [
      "Contents of the Numpy Array :  [1. 1. 1. 1. 1.]\n"
     ]
    }
   ],
   "source": [
    "# create a 1D numpy array with 5 ones filled in it\n",
    "arr = np.ones(5)\n",
    "print('Contents of the Numpy Array : ' , arr)"
   ]
  },
  {
   "cell_type": "code",
   "execution_count": 21,
   "id": "ca93161f",
   "metadata": {},
   "outputs": [
    {
     "name": "stdout",
     "output_type": "stream",
     "text": [
      "Contents of the Numpy Array : \n",
      " [[1. 1. 1. 1.]\n",
      " [1. 1. 1. 1.]\n",
      " [1. 1. 1. 1.]]\n",
      "Data Type of elements in  Array :  float64\n"
     ]
    }
   ],
   "source": [
    "# create a 2D numpy array with 3 rows &amp; 4 columns, filled with 1's\n",
    "arr = np.ones((3, 4))\n",
    "print('Contents of the Numpy Array : \\n', arr)\n",
    "print('Data Type of elements in  Array : ', arr.dtype)"
   ]
  },
  {
   "cell_type": "code",
   "execution_count": 22,
   "id": "53bbd02f",
   "metadata": {},
   "outputs": [
    {
     "name": "stdout",
     "output_type": "stream",
     "text": [
      "Contents of the Numpy Array : \n",
      " [[0 0 0 0]\n",
      " [0 0 0 0]\n",
      " [0 0 0 0]]\n"
     ]
    }
   ],
   "source": [
    "# create a 2D numpy array with 3 rows &amp; 4 columns filled with 1's and int data type\n",
    "arr = np.zeros((3, 4) , dtype=np.int64)\n",
    "print('Contents of the Numpy Array : \\n', arr)"
   ]
  },
  {
   "cell_type": "markdown",
   "id": "90b49948",
   "metadata": {},
   "source": [
    "# Create empty array"
   ]
  },
  {
   "cell_type": "markdown",
   "id": "a0632310",
   "metadata": {},
   "source": [
    "Python’s numpy module provides a function empty() to create new arrays,\n",
    "\n",
    "numpy.empty(shape, dtype=float, order='C')\n",
    "\n",
    "It accepts shape and data type as arguments.\n",
    "\n",
    "Returns a new array of given shape and data type but without initializing entries. It means the returned numpy array will contain garbage values.\n",
    "\n",
    "If data type argument is not provided then the default data type of all entries in the returned numpy array will be float.\n",
    "\n",
    "Let’s use this empty() function to create an empty numpy array of different shape and data types.\n",
    "\n",
    "numpy.empty(shape, dtype=float, order='C', *, like=None)\n",
    "Where:\n",
    "\n",
    "shape describes the shape of the empty array. It can be a tuple or a singular integer value.\n",
    "\n",
    "dtype is an optional parameter that determines the datatype for the array elements. By default, this is numpy.float64.\n",
    "\n",
    "order is an optional parameter that specifies how to store the multidimensional data in memory. The options are:\n",
    "\n",
    "‘C’ for C-style row-major form\n",
    "‘F’ for Fortran-style column-major form.\n",
    "like is an optional parameter. It is a reference object that makes it possible to create non-NumPy arrays.\n",
    "\n",
    "Each of these parameters serves a useful purpose. However, in this guide, we are only going to focus on the mandatory shape parameter."
   ]
  },
  {
   "cell_type": "markdown",
   "id": "4bd46669",
   "metadata": {},
   "source": [
    "Create an empty 1D Numpy array of given length :"
   ]
  },
  {
   "cell_type": "code",
   "execution_count": 26,
   "id": "a07acfab",
   "metadata": {},
   "outputs": [
    {
     "name": "stdout",
     "output_type": "stream",
     "text": [
      "[]\n"
     ]
    }
   ],
   "source": [
    "# Create an empty 1D Numpy array of length 5\n",
    "arr = np.empty(0)\n",
    "print(arr)"
   ]
  },
  {
   "cell_type": "markdown",
   "id": "af06168b",
   "metadata": {},
   "source": [
    "For instance, let’s create an empty 2D array:"
   ]
  },
  {
   "cell_type": "code",
   "execution_count": 28,
   "id": "0c56dd68",
   "metadata": {},
   "outputs": [
    {
     "name": "stdout",
     "output_type": "stream",
     "text": [
      "[[4.24399158e-314 8.48798317e-314 1.27319747e-313]\n",
      " [4.24399158e-314 8.48798317e-314 1.27319747e-313]]\n"
     ]
    }
   ],
   "source": [
    "arr = np.empty([2, 3])\n",
    "print(arr) #Output (contains arbitrary values due to the uninitialized elements)"
   ]
  },
  {
   "cell_type": "code",
   "execution_count": 29,
   "id": "171943de",
   "metadata": {},
   "outputs": [
    {
     "name": "stdout",
     "output_type": "stream",
     "text": [
      "[[[1.37962049e-306 1.24610791e-306 1.11260959e-306]\n",
      "  [1.69109959e-306 9.34603679e-307 1.42419802e-306]\n",
      "  [1.78019082e-306 4.45061456e-308 1.24612081e-306]]\n",
      "\n",
      " [[1.37962049e-306 9.34597567e-307 1.29061821e-306]\n",
      "  [1.78019625e-306 1.11255866e-306 8.90098127e-307]\n",
      "  [9.34609790e-307 3.91792279e-317 2.65249474e-312]]]\n"
     ]
    }
   ],
   "source": [
    "# Create an empty 3D Numpy array\n",
    "empty_array = np.empty((2, 3, 3))\n",
    "print(empty_array)"
   ]
  },
  {
   "cell_type": "code",
   "execution_count": 30,
   "id": "4b1de73f",
   "metadata": {},
   "outputs": [
    {
     "name": "stdout",
     "output_type": "stream",
     "text": [
      "[1 2 3 4 5]\n"
     ]
    }
   ],
   "source": [
    "# Create an empty Numpy array of 5 integers\n",
    "empty_array = np.empty(5, dtype=int)\n",
    "print(empty_array)"
   ]
  },
  {
   "cell_type": "code",
   "execution_count": 31,
   "id": "0907f9ff",
   "metadata": {},
   "outputs": [
    {
     "name": "stdout",
     "output_type": "stream",
     "text": [
      "[nan+0.j  0.+0.j  0.+0.j  0.+0.j  0.+0.j]\n"
     ]
    }
   ],
   "source": [
    "# Create an empty Numpy array of 5 Complex Numbers\n",
    "empty_array = np.empty(5, dtype=complex)\n",
    "print(empty_array)"
   ]
  },
  {
   "cell_type": "code",
   "execution_count": 32,
   "id": "8f80a855",
   "metadata": {},
   "outputs": [
    {
     "name": "stdout",
     "output_type": "stream",
     "text": [
      "[b'\\xa0\\x8b\\x8a' b'\\xfc\\x08\\x02' b'' b'' b'']\n"
     ]
    }
   ],
   "source": [
    "# Create an empty Numpy array of 5 strings of length 3, You also get an array with binary strings\n",
    "empty_array = np.empty(5, dtype='S3')\n",
    "print(empty_array)"
   ]
  },
  {
   "cell_type": "markdown",
   "id": "e0397ac1",
   "metadata": {},
   "source": [
    "# Create array with range of elements"
   ]
  },
  {
   "cell_type": "markdown",
   "id": "545d879a",
   "metadata": {},
   "source": [
    "The arange() works like the range function in python. It is used to create a list of integers within the range of numbers. "
   ]
  },
  {
   "cell_type": "markdown",
   "id": "82f99b2d",
   "metadata": {},
   "source": [
    "Syntax\n",
    "\n",
    "numpy.arange([start, ]stop, [step, ], dtype=None) -> numpy.ndarray"
   ]
  },
  {
   "cell_type": "markdown",
   "id": "39193ac6",
   "metadata": {},
   "source": [
    "start: This is the number the array values begin.\n",
    "    \n",
    "stop: This number indicates the end of the array. Note, however, that this number is not included in the array.\n",
    "    \n",
    "step:  This is the spacing between consecutive indices. By default, it is set to 1 and so integers are within the start and stop value is returned. If set to 2, a number is skipped.\n",
    "    \n",
    "Note that the step cannot be set to zero. Else, a  ZeroDivisionError will be returned. \n"
   ]
  },
  {
   "cell_type": "markdown",
   "id": "f103675b",
   "metadata": {},
   "source": [
    "print(np.arange(0, 15, 2))"
   ]
  },
  {
   "cell_type": "code",
   "execution_count": 37,
   "id": "da7a5f29",
   "metadata": {},
   "outputs": [
    {
     "name": "stdout",
     "output_type": "stream",
     "text": [
      "[ 0  2  4  6  8 10 12 14]\n"
     ]
    }
   ],
   "source": [
    "# or\n",
    "print(np.arange(start=0, stop=15, step=2))"
   ]
  },
  {
   "cell_type": "markdown",
   "id": "600fa1b5",
   "metadata": {},
   "source": [
    "Using the arange function() with 2 arguments.\n",
    "\n",
    "If you are defining just 2 arguments, without keywords, the arguments are the start and end arguments. In this case, the step argument is set to one. Which implies that the integers will be printed consecutively. The example below prints the numbers between 0 and 15."
   ]
  },
  {
   "cell_type": "code",
   "execution_count": 38,
   "id": "93b873bb",
   "metadata": {},
   "outputs": [
    {
     "name": "stdout",
     "output_type": "stream",
     "text": [
      "[ 0  1  2  3  4  5  6  7  8  9 10 11 12 13 14]\n"
     ]
    }
   ],
   "source": [
    "print(np.arange(0, 15))"
   ]
  },
  {
   "cell_type": "markdown",
   "id": "1d58a349",
   "metadata": {},
   "source": [
    "How to Count Backwards with the step argument\n",
    "\n",
    "he start value must be greater than the end value for it to run. So say we wish to return a list from 15 to 1 backwards, the start value is set to 15 while the end value is set to 1. The step is set to -1. See the code below."
   ]
  },
  {
   "cell_type": "code",
   "execution_count": 39,
   "id": "f8071a65",
   "metadata": {},
   "outputs": [
    {
     "name": "stdout",
     "output_type": "stream",
     "text": [
      "[15 14 13 12 11 10  9  8  7  6  5  4  3  2  1]\n"
     ]
    }
   ],
   "source": [
    "print(np.arange(15, 0, -1))"
   ]
  },
  {
   "cell_type": "markdown",
   "id": "0509cf34",
   "metadata": {},
   "source": [
    "Using the linspace function\n",
    "\n",
    "\n",
    "The linspace function is used to create an array of evenly spaced elements. When the linspace function is called, it receives 3 required arguments. It however has 4 arguments to be defined as shown in its syntax below.\n",
    "\n",
    "Syntax:\n",
    "\n",
    "numpy.linspace(start, stop, num, endpoint)"
   ]
  },
  {
   "cell_type": "code",
   "execution_count": 40,
   "id": "6103ac8c",
   "metadata": {},
   "outputs": [
    {
     "name": "stdout",
     "output_type": "stream",
     "text": [
      "[1.         1.03389831 1.06779661 1.10169492 1.13559322 1.16949153\n",
      " 1.20338983 1.23728814 1.27118644 1.30508475 1.33898305 1.37288136\n",
      " 1.40677966 1.44067797 1.47457627 1.50847458 1.54237288 1.57627119\n",
      " 1.61016949 1.6440678  1.6779661  1.71186441 1.74576271 1.77966102\n",
      " 1.81355932 1.84745763 1.88135593 1.91525424 1.94915254 1.98305085\n",
      " 2.01694915 2.05084746 2.08474576 2.11864407 2.15254237 2.18644068\n",
      " 2.22033898 2.25423729 2.28813559 2.3220339  2.3559322  2.38983051\n",
      " 2.42372881 2.45762712 2.49152542 2.52542373 2.55932203 2.59322034\n",
      " 2.62711864 2.66101695 2.69491525 2.72881356 2.76271186 2.79661017\n",
      " 2.83050847 2.86440678 2.89830508 2.93220339 2.96610169 3.        ]\n"
     ]
    }
   ],
   "source": [
    "print(np.linspace(1, 3, 60))"
   ]
  },
  {
   "cell_type": "code",
   "execution_count": 41,
   "id": "ed41b30e",
   "metadata": {},
   "outputs": [
    {
     "name": "stdout",
     "output_type": "stream",
     "text": [
      "Enter starting value: 1\n",
      "Enter ending value: 20\n",
      "Enter Step value: 3\n",
      "[ 1  4  7 10 13 16 19]\n"
     ]
    }
   ],
   "source": [
    "start_val = int(input(\"Enter starting value: \"))\n",
    "end_val = int(input(\"Enter ending value: \"))\n",
    "Step_val = int(input(\"Enter Step value: \"))\n",
    "print(np.arange(start_val, end_val, Step_val))"
   ]
  },
  {
   "cell_type": "code",
   "execution_count": 42,
   "id": "f60cc140",
   "metadata": {},
   "outputs": [
    {
     "name": "stdout",
     "output_type": "stream",
     "text": [
      "Original Array:\n",
      " [ 1  3  5  7 10  2  4  6  8 10 36]\n",
      "(array([2, 3, 4, 6, 7, 8, 9], dtype=int64),)\n"
     ]
    }
   ],
   "source": [
    "\n",
    "arr = np.array([1,3,5,7,10,2,4,6,8,10,36])\n",
    "print(\"Original Array:\\n\",arr)\n",
    "\n",
    "result = np.where(np.logical_and(arr>=4, arr<=20))\n",
    "print(result)"
   ]
  },
  {
   "cell_type": "markdown",
   "id": "9b6610a2",
   "metadata": {},
   "source": [
    "# Sorting of array using np.sort()"
   ]
  },
  {
   "cell_type": "markdown",
   "id": "18d3c4ba",
   "metadata": {},
   "source": [
    "Sorting means putting elements in an ordered sequence.\n",
    "\n",
    "Ordered sequence is any sequence that has an order corresponding to elements, like numeric or alphabetical, ascending or descending.\n",
    "\n",
    "The NumPy ndarray object has a function called sort(), that will sort a specified array."
   ]
  },
  {
   "cell_type": "code",
   "execution_count": 43,
   "id": "19f33816",
   "metadata": {},
   "outputs": [
    {
     "name": "stdout",
     "output_type": "stream",
     "text": [
      "[0 1 2 3]\n"
     ]
    }
   ],
   "source": [
    "arr = np.array([3, 2, 0, 1])\n",
    "\n",
    "print(np.sort(arr))"
   ]
  },
  {
   "cell_type": "code",
   "execution_count": 44,
   "id": "76ca7c73",
   "metadata": {},
   "outputs": [
    {
     "name": "stdout",
     "output_type": "stream",
     "text": [
      "['apple' 'banana' 'cherry']\n"
     ]
    }
   ],
   "source": [
    "# Sort the array alphabetically:\n",
    "\n",
    "arr = np.array(['banana', 'cherry', 'apple'])\n",
    "\n",
    "print(np.sort(arr))"
   ]
  },
  {
   "cell_type": "code",
   "execution_count": 46,
   "id": "b70a09be",
   "metadata": {},
   "outputs": [
    {
     "name": "stdout",
     "output_type": "stream",
     "text": [
      "[False  True  True]\n"
     ]
    }
   ],
   "source": [
    "# Boolean\n",
    "arr = np.array([True, False, True])\n",
    "\n",
    "print(np.sort(arr))"
   ]
  },
  {
   "cell_type": "markdown",
   "id": "4237d844",
   "metadata": {},
   "source": [
    "Sorting a 2-D Array\n",
    "\n",
    "If you use the sort() method on a 2-D array, both arrays will be sorted:"
   ]
  },
  {
   "cell_type": "code",
   "execution_count": 47,
   "id": "7c1c58c4",
   "metadata": {},
   "outputs": [
    {
     "name": "stdout",
     "output_type": "stream",
     "text": [
      "[[2 3 4]\n",
      " [0 1 5]]\n"
     ]
    }
   ],
   "source": [
    "arr = np.array([[3, 2, 4], [5, 0, 1]])\n",
    "\n",
    "print(np.sort(arr))"
   ]
  },
  {
   "cell_type": "code",
   "execution_count": 55,
   "id": "9410b0a7",
   "metadata": {},
   "outputs": [
    {
     "data": {
      "text/plain": [
       "array([['grapes', 'mango', 'orange'],\n",
       "       ['apple', 'banana', 'cherry'],\n",
       "       ['jackfruit', 'papaya', 'watermelon']], dtype='<U10')"
      ]
     },
     "execution_count": 55,
     "metadata": {},
     "output_type": "execute_result"
    }
   ],
   "source": [
    "arr = np.array([['orange','mango','grapes'], ['banana','cherry','apple'], ['papaya','watermelon','jackfruit']]) \n",
    "arr2 = np.sort(arr)  \n",
    "arr2"
   ]
  },
  {
   "cell_type": "code",
   "execution_count": 60,
   "id": "6ee35150",
   "metadata": {},
   "outputs": [
    {
     "data": {
      "text/plain": [
       "array([[0, 1, 5],\n",
       "       [2, 3, 4]])"
      ]
     },
     "execution_count": 60,
     "metadata": {},
     "output_type": "execute_result"
    }
   ],
   "source": [
    "array = np.array([[3, 2, 4], [5, 0, 1]])\n",
    "array_copy = np.sort(array)[::-1]\n",
    "array_copy"
   ]
  },
  {
   "cell_type": "code",
   "execution_count": 61,
   "id": "5135630e",
   "metadata": {},
   "outputs": [
    {
     "name": "stdout",
     "output_type": "stream",
     "text": [
      "[12  8  6  5]\n"
     ]
    }
   ],
   "source": [
    "array = np.array([5,8,6,12])\n",
    "\n",
    "# Use numpy.ndarray.sort() to sort \n",
    "# An array in descending order\n",
    "array[::-1].sort()\n",
    "print(array)"
   ]
  },
  {
   "cell_type": "code",
   "execution_count": 63,
   "id": "3e2c8554",
   "metadata": {},
   "outputs": [
    {
     "name": "stdout",
     "output_type": "stream",
     "text": [
      "array:\n",
      " [[12 15  7]\n",
      " [13  5 11]\n",
      " [ 8  6 10]\n",
      " [45 54 70]]\n"
     ]
    }
   ],
   "source": [
    "#  Sort multi dimensional  NumPy arrays   \n",
    "arr = np.array([[12, 15, 7], [13, 5,11], [8, 6, 10],[45,54,70]]) \n",
    "print(\"array:\\n\",arr)"
   ]
  },
  {
   "cell_type": "code",
   "execution_count": 64,
   "id": "e6edaceb",
   "metadata": {},
   "outputs": [
    {
     "name": "stdout",
     "output_type": "stream",
     "text": [
      "Sorted array:\n",
      " [[ 7 12 15]\n",
      " [ 5 11 13]\n",
      " [ 6  8 10]\n",
      " [45 54 70]]\n"
     ]
    }
   ],
   "source": [
    "arr2 = np.sort(arr) \n",
    "print(\"Sorted array:\\n\",arr2)"
   ]
  },
  {
   "cell_type": "code",
   "execution_count": 65,
   "id": "52abca0f",
   "metadata": {},
   "outputs": [
    {
     "name": "stdout",
     "output_type": "stream",
     "text": [
      " Sorted array:\n",
      " [ 5  6  7  8 10 11 12 13 15 45 54 70]\n"
     ]
    }
   ],
   "source": [
    "arr = np.array([[12, 15, 7], [13, 5,11], [8, 6, 10],[45,54,70]]) \n",
    "\n",
    "# Sort multi-dimensional array along a specified axis\n",
    "arr2 = np.sort(arr, axis= None) \n",
    "print(\" Sorted array:\\n\",arr2) "
   ]
  },
  {
   "cell_type": "markdown",
   "id": "cccba54e",
   "metadata": {},
   "source": [
    "# Concatenation"
   ]
  },
  {
   "cell_type": "markdown",
   "id": "186311cd",
   "metadata": {},
   "source": [
    "Syntax : numpy.concatenate((arr1, arr2, …), axis=0, out=None)\n",
    "    \n",
    "Parameters :\n",
    "arr1, arr2, … : [sequence of array_like] The arrays must have the same shape, except in the dimension corresponding to axis.\n",
    "    \n",
    "axis : [int, optional] The axis along which the arrays will be joined. If axis is None, arrays are flattened before use. Default is 0.\n",
    "out : [ndarray, optional] If provided, the destination to place the result. The shape must be correct, matching that of what concatenate would have returned if no out argument were specified.\n",
    "\n",
    "Return : [ndarray] The concatenated array."
   ]
  },
  {
   "cell_type": "code",
   "execution_count": 71,
   "id": "d57ff95c",
   "metadata": {},
   "outputs": [
    {
     "name": "stdout",
     "output_type": "stream",
     "text": [
      "[[2 4 3 5]\n",
      " [6 8 7 9]]\n"
     ]
    }
   ],
   "source": [
    "arr1 = np.array([[2, 4], [6, 8]])\n",
    "arr2 = np.array([[3, 5], [7, 9]])\n",
    "  \n",
    "gfg = np.concatenate((arr1, arr2), axis = 1)\n",
    "  \n",
    "print (gfg)"
   ]
  },
  {
   "cell_type": "code",
   "execution_count": 69,
   "id": "6a62a1d1",
   "metadata": {},
   "outputs": [
    {
     "name": "stdout",
     "output_type": "stream",
     "text": [
      "[2 4 6 8 3 5 7 9]\n"
     ]
    }
   ],
   "source": [
    "gfg = np.concatenate((arr1, arr2), axis = None)\n",
    "print(gfg)"
   ]
  },
  {
   "cell_type": "markdown",
   "id": "2e40a6a4",
   "metadata": {},
   "source": [
    "# np.ma.concatenate()"
   ]
  },
  {
   "cell_type": "markdown",
   "id": "f3cf48d5",
   "metadata": {},
   "source": [
    "\n",
    "We have created an array 'x' using np.ma.arrange() function.\n",
    "\n",
    "Then, we have created another array 'y' using the same np.ma.arrange() function.\n",
    "\n",
    "We have declared the variable 'z1' and assigned the returned value of np.concatenate() function.\n",
    "\n",
    "We have declared variable 'z2' and assigned the returned value of np.ma.concatenate() function.\n",
    "\n",
    "Lastly, we tried to print the value of 'z1' and 'z2'."
   ]
  },
  {
   "cell_type": "code",
   "execution_count": 73,
   "id": "79ff5081",
   "metadata": {},
   "outputs": [
    {
     "data": {
      "text/plain": [
       "array([3, 4, 5])"
      ]
     },
     "execution_count": 73,
     "metadata": {},
     "output_type": "execute_result"
    }
   ],
   "source": [
    "x=np.ma.arange(3)  \n",
    "y=np.arange(3,6)  \n",
    "x[1]=np.ma.masked  \n",
    "x  \n",
    "y  \n",
    " "
   ]
  },
  {
   "cell_type": "code",
   "execution_count": 74,
   "id": "add331c0",
   "metadata": {},
   "outputs": [
    {
     "data": {
      "text/plain": [
       "masked_array(data=[0, --, 2, 3, 4, 5],\n",
       "             mask=[False,  True, False, False, False, False],\n",
       "       fill_value=999999)"
      ]
     },
     "execution_count": 74,
     "metadata": {},
     "output_type": "execute_result"
    }
   ],
   "source": [
    "z1=np.concatenate([x,y])  \n",
    "z2=np.ma.concatenate([x,y])  \n",
    "z1  \n",
    "z2 "
   ]
  },
  {
   "cell_type": "code",
   "execution_count": 75,
   "id": "8efbfb3d",
   "metadata": {},
   "outputs": [
    {
     "data": {
      "text/plain": [
       "array([[1., 1.],\n",
       "       [1., 1.],\n",
       "       [1., 1.],\n",
       "       [0., 0.],\n",
       "       [0., 0.],\n",
       "       [1., 1.],\n",
       "       [1., 1.],\n",
       "       [1., 1.],\n",
       "       [1., 1.]])"
      ]
     },
     "execution_count": 75,
     "metadata": {},
     "output_type": "execute_result"
    }
   ],
   "source": [
    " L = [np.ones((3,2)), np.zeros((2,2)), np.ones((4,2))]\n",
    "\n",
    "np.concatenate(L)"
   ]
  },
  {
   "cell_type": "markdown",
   "id": "7f811e44",
   "metadata": {},
   "source": [
    "# Use NumPy.hstack() Function"
   ]
  },
  {
   "cell_type": "markdown",
   "id": "5e91d886",
   "metadata": {},
   "source": [
    "Similarly, you can also concatenate arrays horizontally in Python NumPy using hstack() function. The hstack() is used to stack the array horizontally."
   ]
  },
  {
   "cell_type": "code",
   "execution_count": 76,
   "id": "23cd555c",
   "metadata": {},
   "outputs": [
    {
     "name": "stdout",
     "output_type": "stream",
     "text": [
      "[ 4  7 12  5  9 15]\n"
     ]
    }
   ],
   "source": [
    "arr = np.array([4, 7, 12])\n",
    "arr1 = np.array([5, 9, 15])\n",
    "# Use NumPy.hstack() Functions\n",
    "con = np.hstack((arr, arr1))\n",
    "print(con)"
   ]
  },
  {
   "cell_type": "markdown",
   "id": "ec3eec27",
   "metadata": {},
   "source": [
    "# Use numpy.dstack() Function to Concatenate Arrays"
   ]
  },
  {
   "cell_type": "markdown",
   "id": "f0d2b116",
   "metadata": {},
   "source": [
    "Use numpy.dstack() to stack along with the height, which is the same as depth."
   ]
  },
  {
   "cell_type": "code",
   "execution_count": 77,
   "id": "7f0cefb8",
   "metadata": {},
   "outputs": [
    {
     "name": "stdout",
     "output_type": "stream",
     "text": [
      "[[[ 4  5]\n",
      "  [ 7  9]\n",
      "  [12 15]]]\n"
     ]
    }
   ],
   "source": [
    "arr = np.array([4, 7, 12])\n",
    "arr1 = np.array([5, 9, 15])\n",
    "\n",
    "# Use NumPy.dstack() function to Stacking Along Height (depth)\n",
    "con = np.dstack((arr, arr1))\n",
    "print(con)"
   ]
  },
  {
   "cell_type": "markdown",
   "id": "43d14d2a",
   "metadata": {},
   "source": [
    "# Use NumPy.vstack() Function"
   ]
  },
  {
   "cell_type": "markdown",
   "id": "23ef7295",
   "metadata": {},
   "source": [
    "You can use numpy.vstack() to stack arrays in sequence vertically."
   ]
  },
  {
   "cell_type": "code",
   "execution_count": 78,
   "id": "41e4ff44",
   "metadata": {},
   "outputs": [
    {
     "name": "stdout",
     "output_type": "stream",
     "text": [
      "[[ 4  7 12]\n",
      " [ 5  9 15]]\n"
     ]
    }
   ],
   "source": [
    "con = np.vstack((arr, arr1))\n",
    "print(con)"
   ]
  },
  {
   "cell_type": "markdown",
   "id": "2c10414c",
   "metadata": {},
   "source": [
    "# Use numpy.stack() Function to Join Array"
   ]
  },
  {
   "cell_type": "markdown",
   "id": "e1424187",
   "metadata": {},
   "source": [
    "Also, use numpy.stack() function to join a sequence of arrays along a new axis. You pass a sequence of arrays that you want to join to the numpy.stack() function along with the axis. If the axis is not explicitly passed it is taken as zero"
   ]
  },
  {
   "cell_type": "code",
   "execution_count": 79,
   "id": "41c5cb3b",
   "metadata": {},
   "outputs": [
    {
     "name": "stdout",
     "output_type": "stream",
     "text": [
      "[[ 4  5]\n",
      " [ 7  9]\n",
      " [12 15]]\n"
     ]
    }
   ],
   "source": [
    "con = np.stack((arr, arr1), axis=1)\n",
    "print(con)"
   ]
  },
  {
   "cell_type": "code",
   "execution_count": null,
   "id": "7200c568",
   "metadata": {},
   "outputs": [],
   "source": []
  }
 ],
 "metadata": {
  "kernelspec": {
   "display_name": "Python 3 (ipykernel)",
   "language": "python",
   "name": "python3"
  },
  "language_info": {
   "codemirror_mode": {
    "name": "ipython",
    "version": 3
   },
   "file_extension": ".py",
   "mimetype": "text/x-python",
   "name": "python",
   "nbconvert_exporter": "python",
   "pygments_lexer": "ipython3",
   "version": "3.10.4"
  }
 },
 "nbformat": 4,
 "nbformat_minor": 5
}
